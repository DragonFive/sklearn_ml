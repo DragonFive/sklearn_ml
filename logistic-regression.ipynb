{
 "metadata": {
  "name": "",
  "signature": "sha256:ea8358048ba5aba454984968481f9d9469b2b70889c8ae69b14f0eced70f27a3"
 },
 "nbformat": 3,
 "nbformat_minor": 0,
 "worksheets": [
  {
   "cells": [
    {
     "cell_type": "markdown",
     "metadata": {},
     "source": [
      "# \u4ece\u7ebf\u6027\u56de\u5f52\u5230\u903b\u8f91\u56de\u5f52 \n",
      "\n",
      "\u4e00\u5143\u7ebf\u6027\u56de\u5f52,\u591a\u5143\u7ebf\u6027\u56de\u5f52\u548c\u591a\u9879\u5f0f\u56de\u5f52\u3002\u8fd9\u4e9b\u6a21\u578b\u90fd\u662f\u5e7f\u4e49\u7ebf\u6027\u56de\u5f52\u6a21\u578b\u7684\u5177\u4f53\u5f62\u5f0f\u3002\u5176\u5b9e\u903b\u8f91\u56de\u5f52\u5bf9\u5e94\u7684\u4e5f\u6709\u591a\u9879\u5f0f\u903b\u8f91\u56de\u5f52\u3002\n",
      "\n",
      "## \u903b\u8f91\u56de\u5f52\u5904\u7406\u4e8c\u5143\u5206\u7c7b\n",
      "\n",
      "\u666e\u901a\u7684\u7ebf\u6027\u56de\u5f52\u5047\u8bbe\u54cd\u5e94\u53d8\u91cf\u5448\u6b63\u6001\u5206\u5e03,\u4e5f\u79f0\u4e3a\u9ad8\u65af\u5206\u5e03(Gaussian distribution )\u3002\u6b63\u6001\u5206\u5e03\u6570\u636e\u662f\u5bf9\u79f0\u7684,\u4e14\u5747\u503c,\u4e2d\u4f4d\u6570\u548c\u4f17\u6570(mode)\u662f\u4e00\u6837\u7684\u3002\u5f88\u591a\u81ea\u7136\u73b0\u8c61\n",
      "\u90fd\u670d\u4ece\u6b63\u6001\u5206\u5e03\u3002\u6bd4\u5982,\u4eba\u7c7b\u7684\u8eab\u9ad8\u5c31\u670d\u4ece\u6b63\u6001\u5206\u5e03\u3002\u670d\u4ece\u6b63\u6001\u5206\u5e03\u7684\u539f\u56e0\u662f\u6837\u672c\u91cc\u9762\u566a\u58f0\u7684\u5b58\u5728\u7b26\u5408\u6b63\u6001\u5206\u5e03\u3002\n",
      "\n",
      "\n",
      "\u5728\u67d0\u4e9b\u95ee\u9898\u91cc,\u56e0\u53d8\u91cf\u4e0d\u662f\u6b63\u6001\u5206\u5e03\u7684\u3002\u6bd4\u5982,\u63b7\u4e00\u4e2a\u786c\u5e01**\u83b7\u53d6\u6b63\u53cd\u4e24\u9762\u7684\u6982\u7387\u5206\u5e03\u662f\u4f2f\u52aa\u529b\u5206\u5e03**(Bernoulli distribution),\u53c8\u79f0\u4e24\u70b9\u5206\u5e03\u6216\u80050-1\u5206\u5e03\u3002\u8868\u793a\u4e00\u4e2a\u4e8b\u4ef6\u53d1\u751f\u7684\u6982\u7387\u662f P ,\u4e0d\u53d1\u751f\u7684\u6982\u7387\u662f 1 \u2212 P ,\u6982\u7387\u5728{0,1} \u4e4b\u95f4\u3002\u7ebf\u6027\u56de\u5f52\u5047\u8bbe\u81ea\u53d8\u91cf\u503c\u7684\u53d8\u5316\u4f1a\u5f15\u8d77\u54cd\u5e94\u53d8\u91cf\u503c\u7684\u53d8\u5316,\u5982\u679c\u56e0\u53d8\u91cf\u7684\u503c\u662f\u6982\u7387\u7684,\u8fd9\u6761\u5047\u8bbe\u5c31\u4e0d\u6ee1\u8db3\u4e86\u3002\n",
      "\n",
      "\u56e0\u53d8\u91cf\u63cf\u8ff0\u4e86\u7c7b\u4f3c\u4e8e\u63b7\u4e00\u4e2a\u786c\u5e01\u7ed3\u679c\u4e3a\u6b63\u9762\u7684**\u6982\u7387**\u3002\u5982\u679c\u56e0\u53d8\u91cf\u7b49\u4e8e\u6216\u8d85\u8fc7\u4e86\u6307\u5b9a\u7684\u4e34\u754c\u503c,\u9884\u6d4b\u7ed3\u679c\u5c31\u662f\u6b63\u9762,\u5426\u5219\u9884\u6d4b\u7ed3\u679c\u5c31\u662f\u53cd\u9762\u3002\u56e0\u53d8\u91cf\u662f\u4e00\u4e2a\u50cf\u7ebf\u6027\u56de\u5f52\u4e2d\u7684\u89e3\u91ca\u53d8\u91cf\u6784\u6210\u7684\u51fd\u6570\u8868\u793a,\u79f0\u4e3a**\u903b\u8f91\u51fd\u6570(logistic function)**\u3002   $$ F(t) = \\frac{1}{1+e^{-t}} $$"
     ]
    },
    {
     "cell_type": "code",
     "collapsed": false,
     "input": [
      "# \u8fd9\u53e5\u8bdd\u5c31\u53ef\u4ee5\u628a\u56fe\u50cf\u663e\u793a\u5728\u7f51\u9875\u91cc\u9762 \u597d\u5389\u5bb3\u5440 \u54c8\u54c8\u54c8\u54c8\n",
      "%matplotlib inline   \n",
      "from matplotlib import pyplot as plt\n",
      "import numpy as np\n",
      "\n",
      "plt.figure()\n",
      "plt.axis([-6,6,0,1]) # \u8bbe\u7f6e\u5750\u6807\u523b\u5ea6\n",
      "plt.grid(True) #\u8bbe\u7f6e\u683c\u5b50 \n",
      "x = np.arange(-6,6,0.1)\n",
      "y=1/(1+np.e**(-x))\n",
      "\n",
      "plt.plot(x,y,'b-');\n",
      "plt.show()"
     ],
     "language": "python",
     "metadata": {},
     "outputs": [
      {
       "metadata": {},
       "output_type": "display_data",
       "png": "[encoded data removed]",
       "text": [
        "<matplotlib.figure.Figure at 0x7f52a322e110>"
       ]
      }
     ],
     "prompt_number": 6
    },
    {
     "cell_type": "markdown",
     "metadata": {},
     "source": [
      "---\n",
      "# \u5783\u573e\u90ae\u4ef6\u5206\u7c7b  \n",
      "\n",
      "spam classification\u3002\u8fd9\u91cc,\u6211\u4eec\u5206\u7c7b\u5783\u573e\u77ed\u4fe1\u3002\u6211\u4eec\u7528\u7b2c\u4e09\u7ae0\u4ecb\u7ecd\u7684**TF-IDF\u7b97\u6cd5\u6765\u62bd\u53d6\u77ed\u4fe1\u7684\u7279\u5f81\u5411\u91cf**,\u7136\u540e\u7528\u903b\u8f91\u56de\u5f52\u5206\u7c7b\u3002\n",
      "\n",
      "\u6211\u4eec\u53ef\u4ee5\u7528[ UCI Machine Learning Repository](http://archive.ics.uci.edu/ml/datasets/SMS+Spam+Collection)\u7684\u77ed\u4fe1\u5783\u573e\u5206\u7c7b\u6570\u636e\u96c6(SMS Spam Classification Data Set)\u3002\u9996\u5148,\u6211\u4eec\u8fd8\u662f\u7528Pandas\u505a\u4e00\u4e9b\u63cf\u8ff0\u6027\u7edf\u8ba1:\n"
     ]
    },
    {
     "cell_type": "code",
     "collapsed": false,
     "input": [
      "import pandas as pd\n",
      "\n",
      "df =pd.read_csv('SMSSpamCollection',delimiter='\\t',header=None)\n",
      "print df.head(4)  # \u8f93\u51fa\u5934\u90e84\u6761\u4fe1\u606f \n",
      "# \u4e0b\u9762\u8f93\u51fa\u5404\u7c7b\u7684\u7edf\u8ba1\u4fe1\u606f \n",
      "print '\u542bspam\u77ed\u4fe1\u6570\u91cf:',df[df[0]=='spam'][0].count() # \u5148\u7b5b\u9009\u51fa\u7b2c0\u5217\u4e3aspam\u7684\u90a3\u4e9b\u884c\uff0c\u7136\u540e\u518d\u7edf\u8ba1\u7b2c0\u5217\u6709\u6570\u636e\u7684\u6709\u591a\u5c11\u884c\n",
      "print '\u542b ham\u77ed\u4fe1\u6570\u91cf:',df[df[0]== 'ham'][0].count() # \u5148\u7b5b\u9009\u51fa\u7b2c0\u5217\u4e3aham \u7684\u90a3\u4e9b\u884c\uff0c\u7136\u540e\u518d\u7edf\u8ba1\u7b2c0\u5217\u6709\u6570\u636e\u7684\u6709\u591a\u5c11\u884c\n",
      "\n",
      "df.describe()"
     ],
     "language": "python",
     "metadata": {},
     "outputs": [
      {
       "output_type": "stream",
       "stream": "stdout",
       "text": [
        "      0                                                  1\n",
        "0   ham  Go until jurong point, crazy.. Available only ...\n",
        "1   ham                      Ok lar... Joking wif u oni...\n",
        "2  spam  Free entry in 2 a wkly comp to win FA Cup fina...\n",
        "3   ham  U dun say so early hor... U c already then say...\n",
        "\u542bspam\u77ed\u4fe1\u6570\u91cf: 747\n",
        "\u542b ham\u77ed\u4fe1\u6570\u91cf: 4825\n"
       ]
      },
      {
       "html": [
        "<div style=\"max-width:1500px;overflow:auto;\">\n",
        "<table border=\"1\" class=\"dataframe\">\n",
        "  <thead>\n",
        "    <tr style=\"text-align: right;\">\n",
        "      <th></th>\n",
        "      <th>0</th>\n",
        "      <th>1</th>\n",
        "    </tr>\n",
        "  </thead>\n",
        "  <tbody>\n",
        "    <tr>\n",
        "      <th>count</th>\n",
        "      <td>5572</td>\n",
        "      <td>5572</td>\n",
        "    </tr>\n",
        "    <tr>\n",
        "      <th>unique</th>\n",
        "      <td>2</td>\n",
        "      <td>5169</td>\n",
        "    </tr>\n",
        "    <tr>\n",
        "      <th>top</th>\n",
        "      <td>ham</td>\n",
        "      <td>Sorry, I'll call later</td>\n",
        "    </tr>\n",
        "    <tr>\n",
        "      <th>freq</th>\n",
        "      <td>4825</td>\n",
        "      <td>30</td>\n",
        "    </tr>\n",
        "  </tbody>\n",
        "</table>\n",
        "</div>"
       ],
       "metadata": {},
       "output_type": "pyout",
       "prompt_number": 12,
       "text": [
        "           0                       1\n",
        "count   5572                    5572\n",
        "unique     2                    5169\n",
        "top      ham  Sorry, I'll call later\n",
        "freq    4825                      30"
       ]
      }
     ],
     "prompt_number": 12
    },
    {
     "cell_type": "markdown",
     "metadata": {},
     "source": [
      "\u7528pandas\u52a0\u8f7d\u6570\u636e.csv \u6587\u4ef6,\u7136\u540e\u7528train_test_split \u5206\u6210\u8bad\u7ec3\u96c6(75%)\u548c\u6d4b\u8bd5\u96c6(25%)\n",
      "\n",
      "[Pandas\u2014\u2014ix vs loc vs iloc\u533a\u522b ](http://blog.csdn.net/xw_classmate/article/details/51333646)"
     ]
    },
    {
     "cell_type": "code",
     "collapsed": false,
     "input": [
      "from sklearn.cross_validation import train_test_split\n",
      "from sklearn.feature_extraction.text import TfidfVectorizer\n",
      "from sklearn.linear_model.logistic import LogisticRegression\n",
      "\n",
      "x_train_raw,x_test_raw,y_train,y_test = train_test_split(df[1],df[0])\n",
      "\n",
      "# \u5148\u7528Tfidvectorizer\u63d0\u53d6\u7279\u5f81 \n",
      "\n",
      "vectorizer = TfidfVectorizer()\n",
      "x_train = vectorizer.fit_transform(x_train_raw) #\u63d0\u53d6\u7279\u5f81\u5e76\u7ecf\u8fc7\u6743\u503c\u6293\u6362\n",
      "x_test = vectorizer.transform(x_test_raw)\n",
      "\n",
      "log_regress = LogisticRegression()\n",
      "log_regress.fit(x_train,y_train)\n",
      "\n",
      "y_test_predict = log_regress.predict(x_test)\n",
      "#\u5bf9\u4e00\u4e2alist\u53ef\u4ee5\u8fd9\u6837\u8f93\u51fa \n",
      "a = [3,2,1]\n",
      "for i,ai in enumerate(a):\n",
      "    print i,ai\n",
      "    \n",
      "for i,prediction in enumerate(y_test_predict[-5:]):\n",
      "    print('predict type:%s , xinxi %s' % ( prediction,x_test_raw.iloc[i] ) ) #.iloc \u662fpandas\u83b7\u5f97\u7b2ci\u884c\u7684\u6570\u636e\u7684\u65b9\u5f0f\n"
     ],
     "language": "python",
     "metadata": {},
     "outputs": [
      {
       "output_type": "stream",
       "stream": "stdout",
       "text": [
        "0 3\n",
        "1 2\n",
        "2 1\n",
        "predict type:ham , xinxi FREE2DAY sexy St George's Day pic of Jordan!Txt PIC to 89080 dont miss out, then every wk a saucy celeb!4 more pics c PocketBabe.co.uk 0870241182716 \u00a33/wk\n",
        "predict type:ham , xinxi Goodmorning sleeping ga.\n",
        "predict type:spam , xinxi HMV BONUS SPECIAL 500 pounds of genuine HMV vouchers to be won. Just answer 4 easy questions. Play Now! Send HMV to 86688 More info:www.100percent-real.com\n",
        "predict type:ham , xinxi Sorry, I'll call later in meeting\n",
        "predict type:ham , xinxi R \u00fc comin back for dinner?\n"
       ]
      }
     ],
     "prompt_number": 16
    },
    {
     "cell_type": "markdown",
     "metadata": {},
     "source": [
      "---\n",
      "# \u4e8c\u5143\u5206\u7c7b\u6548\u679c\u8bc4\u4f30\u65b9\u6cd5\n",
      "\n",
      "\u4e8c\u5143\u5206\u7c7b\u7684\u6548\u679c\u8bc4\u4f30\u65b9\u6cd5\u6709\u5f88\u591a,\u5e38\u89c1\u7684\u5305\u62ec\u7b2c\u4e00\u7ae0\u91cc\u4ecb\u7ecd\u7684\u80bf\u7624\u9884\u6d4b\u4f7f\u7528\u7684**\u51c6\u786e\u7387(accuracy),\u7cbe\u786e\u7387(precision)\u548c\u53ec\u56de\u7387(recall)**\u4e09\u9879\u6307\u6807,\u4ee5\u53ca**\u7efc\u5408\u8bc4\u4ef7\u6307\u6807(F1 measure)**, ROC AUC\u503c(Receiver Operating Characteristic ROC,Area Under Curve,AUC)\u3002\u8fd9\u4e9b\u6307\u6807\u8bc4\u4ef7\u7684\u6837\u672c\u5206\u7c7b\u662f**\u771f\u9633\u6027(true positives),\u771f\u9634\u6027(true negatives),\u5047\u9633\u6027(false positives),\u5047\u9634\u6027(false negatives)**\u3002\u9633\u6027\u548c\u9634\u6027\u6307\u5206\u7c7b,\u771f\u548c\u5047\u6307\u9884\u6d4b\u7684\u6b63\u786e\u4e0e\u5426\u3002\n",
      "\n",
      "\u6df7\u6dc6\u77e9\u9635(Confusion matrix),\u4e5f\u79f0\u5217\u8054\u8868\u5206\u6790(Contingencytable)\u53ef\u4ee5\u7528\u6765**\u63cf\u8ff0\u771f\u5047\u4e0e\u9634\u9633**\u7684\u5173\u7cfb\u3002\u77e9\u9635\u7684\u884c\u8868\u793a\u5b9e\u9645\u7c7b\u578b,\u5217\u8868\u793a\u9884\u6d4b\u7c7b\u578b\u3002\n",
      "\n",
      "\n",
      "[\u51c6\u786e\u7387\u4e0e\u53ec\u56de\u7387 ](http://blog.csdn.net/wangzhiqing3/article/details/9058523)"
     ]
    },
    {
     "cell_type": "code",
     "collapsed": false,
     "input": [
      "from sklearn.metrics import confusion_matrix\n",
      "import matplotlib.pyplot as plt\n",
      "y_test = [0, 0, 0, 0, 0, 1, 1, 1, 1, 1]\n",
      "y_pred = [0, 1, 0, 0, 0, 0, 0, 1, 1, 1]\n",
      "confusion_matrix = confusion_matrix(y_test, y_pred)\n",
      "print(confusion_matrix)\n",
      "plt.matshow(confusion_matrix)\n",
      "plt.title(unicode('\u6df7\u6dc6\u77e9\u9635','utf-8'))\n",
      "plt.colorbar()\n",
      "plt.ylabel(unicode(' \u5b9e\u9645\u7c7b\u578b','utf-8'))\n",
      "plt.xlabel(unicode(' \u9884\u6d4b\u7c7b\u578b','utf-8'))\n",
      "plt.show()\n",
      "\n",
      "print unicode('\u6df7\u6dc6\u77e9\u9635','utf-8')"
     ],
     "language": "python",
     "metadata": {},
     "outputs": [
      {
       "output_type": "stream",
       "stream": "stdout",
       "text": [
        "[[4 1]\n",
        " [2 3]]\n"
       ]
      },
      {
       "metadata": {},
       "output_type": "display_data",
       "png": "[encoded data removed]",
       "text": [
        "<matplotlib.figure.Figure at 0x7f52a3a62390>"
       ]
      },
      {
       "output_type": "stream",
       "stream": "stdout",
       "text": [
        "\u6df7\u6dc6\u77e9\u9635\n"
       ]
      }
     ],
     "prompt_number": 10
    },
    {
     "cell_type": "markdown",
     "metadata": {},
     "source": [
      "## \u51c6\u786e\u5ea6\n",
      "\n",
      "\u51c6\u786e\u7387\u662f\u5206\u7c7b\u5668**\u9884\u6d4b\u6b63\u786e\u6027**\u7684\u8bc4\u4f30\u6307\u6807,\u4e5f\u5c31\u662f\u6b63\u786e\u5206\u7c7b\u7684\u6982\u7387\u3002scikit-learn\u63d0\u4f9b\u4e86accuracy_score \u6765\u8ba1\u7b97:\n",
      "\n",
      "$$ accu rate = \\frac{TP+TN}{TP+TN+FP+FN} $$"
     ]
    },
    {
     "cell_type": "code",
     "collapsed": false,
     "input": [
      "from sklearn.metrics import accuracy_score\n",
      "\n",
      "y_pred,y_true = [0,1,0,0],[1,1,0,0]\n",
      "\n",
      "\n",
      "print(accuracy_score(y_true,y_pred))"
     ],
     "language": "python",
     "metadata": {},
     "outputs": [
      {
       "output_type": "stream",
       "stream": "stdout",
       "text": [
        "0.75\n"
       ]
      }
     ],
     "prompt_number": 65
    },
    {
     "cell_type": "markdown",
     "metadata": {},
     "source": [
      "LogisticRegression.score() \u7528\u6765\u8ba1\u7b97\u6a21\u578b\u9884\u6d4b\u7684\u51c6\u786e\u7387:\n",
      "\n",
      "LogisticRegression.cross_validation_score()\u53ef\u4ee5\u8ba1\u7b97\u4ea4\u53c9\u9a8c\u8bc1\u5404\u4e2a\u6b65\u9aa4\u7684\u51c6\u786e\u7387"
     ]
    },
    {
     "cell_type": "code",
     "collapsed": false,
     "input": [
      "from sklearn.cross_validation import cross_val_score\n",
      "scores = cross_val_score(log_regress,x_train,y_train,cv=5)\n",
      "x_train?\n",
      "print y_train\n",
      "print(unicode('\u51c6\u786e\u5ea6:','utf-8'))\n",
      "print(np.mean(scores),scores)"
     ],
     "language": "python",
     "metadata": {},
     "outputs": [
      {
       "output_type": "stream",
       "stream": "stdout",
       "text": [
        "4869     ham\n",
        "3631    spam\n",
        "3347     ham\n",
        "3722     ham\n",
        "408      ham\n",
        "695      ham\n",
        "2109    spam\n",
        "2515     ham\n",
        "4497     ham\n",
        "4100     ham\n",
        "1449    spam\n",
        "64       ham\n",
        "581      ham\n",
        "3807    spam\n",
        "319     spam\n",
        "1868     ham\n",
        "2896     ham\n",
        "1895    spam\n",
        "3300     ham\n",
        "3829     ham\n",
        "2769     ham\n",
        "424     spam\n",
        "3510     ham\n",
        "4401     ham\n",
        "5337     ham\n",
        "3783     ham\n",
        "2887     ham\n",
        "1590     ham\n",
        "2350     ham\n",
        "3075     ham\n",
        "        ... \n",
        "1949     ham\n",
        "5392     ham\n",
        "696      ham\n",
        "2177     ham\n",
        "1107     ham\n",
        "1850     ham\n",
        "1909     ham\n",
        "3931     ham\n",
        "4847     ham\n",
        "5429     ham\n",
        "2250    spam\n",
        "1193     ham\n",
        "3057     ham\n",
        "970      ham\n",
        "625      ham\n",
        "3751     ham\n",
        "3789    spam\n",
        "3186     ham\n",
        "1112     ham\n",
        "1448     ham\n",
        "3158     ham\n",
        "2255     ham\n",
        "161      ham\n",
        "2995     ham\n",
        "2812     ham\n",
        "4195     ham\n",
        "2099     ham\n",
        "1896     ham\n",
        "1424     ham\n",
        "843      ham\n",
        "Name: 0, dtype: object\n",
        "\u51c6\u786e\u5ea6:\n",
        "(0.95645044838552562, array([ 0.95095694,  0.96411483,  0.95334928,  0.95095694,  0.96287425]))\n"
       ]
      }
     ],
     "prompt_number": 15
    },
    {
     "cell_type": "markdown",
     "metadata": {},
     "source": [
      "\u51c6\u786e\u7387\u662f\u5206\u7c7b\u5668\u9884\u6d4b\u6b63\u786e\u6027\u7684\u6bd4\u4f8b,\u4f46\u662f\u5e76\u4e0d\u80fd\u5206\u8fa8\u51fa\u5047\u9633\u6027\u9519\u8bef\u548c\u5047\u9634\u6027\u9519\u8bef\u3002\u5728\u6709\u4e9b\u95ee\u9898\u91cc\u9762,\u6bd4\u5982\u7b2c\u4e00\u7ae0\u7684\u80bf\u7624\u9884\u6d4b\u95ee\u9898\u4e2d,**\u5047\u9634\u6027\u4e0e\u5047\u9633\u6027**\u8981\u4e25\u91cd\u5f97\u591a,\u5176\u4ed6\u7684\u95ee\u9898\u91cc\u53ef\u80fd\u76f8\u53cd\u3002\u53e6\u5916,\u6709\u65f6\u51c6\u786e\u7387\u5e76\u975e\u4e00\u4e2a\u6709\u6548\u7684\u8861\u91cf\u6307\u6807,\u5982\u679c**\u5206\u7c7b\u7684\u6bd4\u4f8b\u5728\u6837\u672c\u4e2d\u4e25\u91cd\u5931\u8c03**\u3002\u6bd4\u5982FBI\u7684\u4eba\u8138\u8bc6\u522b\u8fdb\u5165\u7cfb\u7edf\uff0c\u5047\u9633\u6027\u540e\u679c\u66f4\u4e25\u91cd(\u9519\u8bef\u5730\u8ba9\u8fdb),\u800c\u8d85\u5e02\u6307\u7eb9\u6298\u6263\u7cfb\u7edf\u6765\u8bf4,\u5047\u9634\u6027\uff08\u9519\u8bef\u5730\u4e0d\u8ba9\u8fdb\uff09\u540e\u679c\u66f4\u4e25\u91cd\n",
      "\n",
      "---\n",
      "## \u7cbe\u786e\u7387\u548c\u53ec\u56de\u7387\n",
      "\n",
      "\u7cbe\u786e\u7387\u662f\u6307\u5206\u7c7b\u5668\u9884\u6d4b\u51fa\u7684\u5783\u573e\u77ed\u4fe1\u4e2d\u771f\u7684\u662f\u5783\u573e\u77ed\u4fe1\u7684\u6bd4\u4f8b  $ \\frac{TP}{TP+FP} $\uff0c\u5f3a\u8c03\u9884\u6d4b\u51fa\u7684\u9633\u6027\u7684\u771f\u5b9e\u6027\uff0c\u8003\u5bdf\u5bf9\u8c61\u662f\u9884\u6d4b\u51fa\u7684\u9633\u6027\n",
      "\n",
      "Recall \u53ec\u56de\u7387\u5728\u533b\u5b66\u9886\u57df\u4e5f\u53eb\u505a\u7075\u654f\u5ea6(sensitivity),\u5728\u672c\u4f8b\u4e2d\u662f\u6307\u6240\u6709\u771f\u7684\u5783\u573e\u77ed\u4fe1\u88ab\u5206\u7c7b\u5668\u6b63\u786e\u627e\u51fa\u6765\u7684\u6bd4\u4f8b$ \\frac{TP}{TP+FN} $,\u5f3a\u8c03\u771f\u5b9e\u9633\u6027\u7684\u9884\u6d4b\uff0c\u5f3a\u8c03\u7684\u662f\u771f\u5b9e\u7684\u9633\u6027 \n",
      "\n"
     ]
    },
    {
     "cell_type": "code",
     "collapsed": false,
     "input": [
      "#precisions = cross_val_score(log_regress, x_train, y_train, cv=5,scoring='precision')\n",
      "#print(' \u7cbe\u786e\u7387:', np.mean(precisions), precisions)\n",
      "#recalls = cross_val_score(log_regress, x_train, y_train, cv=5, scoring='recall')\n",
      "#print(' \u53ec\u56de\u7387:', np.mean(recalls), recalls)"
     ],
     "language": "python",
     "metadata": {},
     "outputs": [],
     "prompt_number": 17
    },
    {
     "cell_type": "code",
     "collapsed": false,
     "input": [
      "import numpy as np\n",
      "\n",
      "z_train = []\n",
      "for i in y_train:\n",
      "    if i=='ham':\n",
      "        z_train.append(1)\n",
      "    else:\n",
      "        z_train.append(0)\n",
      "\n",
      "        \n",
      "#print z_train\n",
      "log_regress = LogisticRegression()\n",
      "log_regress.fit(x_train,z_train)\n",
      "\n",
      "\n",
      "\n",
      "scores = cross_val_score(log_regress,x_train,z_train,cv=5)\n",
      "print(' right:', np.mean(scores))\n",
      "precisions = cross_val_score(log_regress, x_train, z_train, cv=5, scoring = 'precision')\n",
      "print(' precision:', np.mean(precisions))\n",
      "recalls = cross_val_score(log_regress, x_train, z_train, cv=5, scoring='recall')\n",
      "print(' recall:', np.mean(recalls))\n",
      "\n",
      "\n",
      "\n",
      "\n",
      "\n",
      "\n",
      "\n"
     ],
     "language": "python",
     "metadata": {},
     "outputs": [
      {
       "output_type": "stream",
       "stream": "stdout",
       "text": [
        "(' right:', 0.8648001604446609)\n",
        "(' precision:', 0.8648001604446609)"
       ]
      },
      {
       "output_type": "stream",
       "stream": "stdout",
       "text": [
        "\n",
        "(' recall:', 1.0)"
       ]
      },
      {
       "output_type": "stream",
       "stream": "stdout",
       "text": [
        "\n"
       ]
      }
     ],
     "prompt_number": 71
    },
    {
     "cell_type": "markdown",
     "metadata": {},
     "source": [
      "---\n",
      "\n",
      "## \u8ba1\u7b97\u7efc\u5408\u8bc4\u4ef7\u6307\u6807 \n",
      "\n",
      "\n",
      "\n",
      "\n",
      "\n",
      "\u7efc\u5408\u8bc4\u4ef7\u6307\u6807 (F measure)\u662fprecision\u548crecall\u7684\u8c03\u548c\u5747\u503c\uff0c\u52a0\u6743\u5e73\u5747\u503c\uff0c\u4e5f\u79f0\u4e3aF-measure \u6216fF-score\n",
      "\n",
      "$$ F=\\frac{(a^2+1)P*R}{a^2(R+R)} $$\n",
      "\n",
      "\u5f53a=1\u65f6\u5019\u4e3aF1 measure\n",
      "\n",
      "$$ \\frac{1}{F1}+\\frac{1}{F1} = \\frac1P+\\frac1R $$\n",
      "\n",
      "\n",
      "\n",
      "\n",
      "\n",
      "\u4e5f\u5c31\u662f $ F1=2\\frac{PR}{P+R} $\n",
      "\n",
      "\u7efc\u5408\u8bc4\u4ef7\u6307\u6807\u5e73\u8861\u4e86\u7cbe\u786e\u7387\u548c\u53ec\u56de\u7387\u3002\u4e00\u4e2a\u4e8c\u5143\u5206\u7c7b\u6a21\u578b,\u7cbe\u786e\u7387\u548c\u53ec\u56de\u7387\u4e3a1,\u90a3\u4e48\u7efc\u5408\u8bc4\u4ef7\u6307\u6807\u4e3a1\u3002\u5982\u679c\u7cbe\u786e\u7387\u6216\u53ec\u56de\u7387\u4e3a0,\u90a3\u4e48\u7efc\u5408\u8bc4\u4ef7\u6307\u6807\u4e3a0\u3002\n",
      "\n",
      "\u5f53F1\u8f83\u9ad8\u662f\u5219\u8bf4\u660e\u5b9e\u9a8c\u65b9\u6cd5\u6bd4\u8f83\u7406\u60f3"
     ]
    },
    {
     "cell_type": "code",
     "collapsed": false,
     "input": [
      "f1score = cross_val_score(log_regress, x_train, z_train, cv=5, scoring='f1')\n",
      "print(' f1score:', np.mean(f1score))"
     ],
     "language": "python",
     "metadata": {},
     "outputs": [
      {
       "output_type": "stream",
       "stream": "stdout",
       "text": [
        "(' f1score:', 0.92749901848219651)\n"
       ]
      }
     ],
     "prompt_number": 65
    },
    {
     "cell_type": "markdown",
     "metadata": {},
     "source": [
      "# \u591a\u7c7b\u5206\u7c7b\n",
      "\n",
      "scikit-learn\u7528one-vs.-all\u6216one-vs.-the-rest\u65b9\u6cd5\u5b9e\u73b0\u591a\u7c7b\u5206\u7c7b,\u5c31\u662f\u628a\u591a\u7c7b\u4e2d\u7684\u6bcf\u4e2a\u7c7b\u90fd\u4f5c\u4e3a\u4e8c\u5143\u5206\u7c7b\u5904\u7406\u3002\u5206\u7c7b\u5668\u9884\u6d4b\u6837\u672c\u4e0d\u540c\u7c7b\u578b,\u5c06\u5177\u6709**\u6700\u5927\u7f6e\u4fe1\u6c34\u5e73\u7684\u7c7b\u578b\u4f5c\u4e3a\u6837\u672c\u7c7b\u578b**\u3002LogisticRegression() \u901a\u8fc7one-vs.-all\u7b56\u7565\u652f\u6301\u591a\u7c7b\u5206\u7c7b\u3002\n",
      "\n",
      "\n",
      "## \u4e0b\u9762\u6f14\u793a\u4e00\u4e0b\u8fd9\u4e2a\u7535\u5f71\u8bc4\u4ef7\u6570\u636e\u5e93\u7684\u4e2a\u65b9\u9762\u4fe1\u606f"
     ]
    },
    {
     "cell_type": "code",
     "collapsed": false,
     "input": [
      "import zipfile\n",
      "# \u538b\u7f29\u8282\u7ea6\u7a7a\u95f4 \n",
      "z = zipfile.ZipFile('train.tsv.zip')\n",
      "df2 = pd.read_csv(z.open(z.namelist()[0]), header=0, delimiter='\\t')\n",
      "df2.head(10)"
     ],
     "language": "python",
     "metadata": {},
     "outputs": [
      {
       "html": [
        "<div style=\"max-width:1500px;overflow:auto;\">\n",
        "<table border=\"1\" class=\"dataframe\">\n",
        "  <thead>\n",
        "    <tr style=\"text-align: right;\">\n",
        "      <th></th>\n",
        "      <th>PhraseId</th>\n",
        "      <th>SentenceId</th>\n",
        "      <th>Phrase</th>\n",
        "      <th>Sentiment</th>\n",
        "    </tr>\n",
        "  </thead>\n",
        "  <tbody>\n",
        "    <tr>\n",
        "      <th>0</th>\n",
        "      <td>1</td>\n",
        "      <td>1</td>\n",
        "      <td>A series of escapades demonstrating the adage ...</td>\n",
        "      <td>1</td>\n",
        "    </tr>\n",
        "    <tr>\n",
        "      <th>1</th>\n",
        "      <td>2</td>\n",
        "      <td>1</td>\n",
        "      <td>A series of escapades demonstrating the adage ...</td>\n",
        "      <td>2</td>\n",
        "    </tr>\n",
        "    <tr>\n",
        "      <th>2</th>\n",
        "      <td>3</td>\n",
        "      <td>1</td>\n",
        "      <td>A series</td>\n",
        "      <td>2</td>\n",
        "    </tr>\n",
        "    <tr>\n",
        "      <th>3</th>\n",
        "      <td>4</td>\n",
        "      <td>1</td>\n",
        "      <td>A</td>\n",
        "      <td>2</td>\n",
        "    </tr>\n",
        "    <tr>\n",
        "      <th>4</th>\n",
        "      <td>5</td>\n",
        "      <td>1</td>\n",
        "      <td>series</td>\n",
        "      <td>2</td>\n",
        "    </tr>\n",
        "    <tr>\n",
        "      <th>5</th>\n",
        "      <td>6</td>\n",
        "      <td>1</td>\n",
        "      <td>of escapades demonstrating the adage that what...</td>\n",
        "      <td>2</td>\n",
        "    </tr>\n",
        "    <tr>\n",
        "      <th>6</th>\n",
        "      <td>7</td>\n",
        "      <td>1</td>\n",
        "      <td>of</td>\n",
        "      <td>2</td>\n",
        "    </tr>\n",
        "    <tr>\n",
        "      <th>7</th>\n",
        "      <td>8</td>\n",
        "      <td>1</td>\n",
        "      <td>escapades demonstrating the adage that what is...</td>\n",
        "      <td>2</td>\n",
        "    </tr>\n",
        "    <tr>\n",
        "      <th>8</th>\n",
        "      <td>9</td>\n",
        "      <td>1</td>\n",
        "      <td>escapades</td>\n",
        "      <td>2</td>\n",
        "    </tr>\n",
        "    <tr>\n",
        "      <th>9</th>\n",
        "      <td>10</td>\n",
        "      <td>1</td>\n",
        "      <td>demonstrating the adage that what is good for ...</td>\n",
        "      <td>2</td>\n",
        "    </tr>\n",
        "  </tbody>\n",
        "</table>\n",
        "</div>"
       ],
       "metadata": {},
       "output_type": "pyout",
       "prompt_number": 114,
       "text": [
        "   PhraseId  SentenceId                                             Phrase  \\\n",
        "0         1           1  A series of escapades demonstrating the adage ...   \n",
        "1         2           1  A series of escapades demonstrating the adage ...   \n",
        "2         3           1                                           A series   \n",
        "3         4           1                                                  A   \n",
        "4         5           1                                             series   \n",
        "5         6           1  of escapades demonstrating the adage that what...   \n",
        "6         7           1                                                 of   \n",
        "7         8           1  escapades demonstrating the adage that what is...   \n",
        "8         9           1                                          escapades   \n",
        "9        10           1  demonstrating the adage that what is good for ...   \n",
        "\n",
        "   Sentiment  \n",
        "0          1  \n",
        "1          2  \n",
        "2          2  \n",
        "3          2  \n",
        "4          2  \n",
        "5          2  \n",
        "6          2  \n",
        "7          2  \n",
        "8          2  \n",
        "9          2  "
       ]
      }
     ],
     "prompt_number": 114
    },
    {
     "cell_type": "code",
     "collapsed": false,
     "input": [
      "df2.count()\n",
      "# \u770b\u770b\u6570\u636e\u662f\u5426\u5b8c\u6574"
     ],
     "language": "python",
     "metadata": {},
     "outputs": [
      {
       "metadata": {},
       "output_type": "pyout",
       "prompt_number": 99,
       "text": [
        "PhraseId      156060\n",
        "SentenceId    156060\n",
        "Phrase        156060\n",
        "Sentiment     156060\n",
        "dtype: int64"
       ]
      }
     ],
     "prompt_number": 99
    },
    {
     "cell_type": "code",
     "collapsed": false,
     "input": [
      "df2.Phrase.head(10)"
     ],
     "language": "python",
     "metadata": {},
     "outputs": [
      {
       "metadata": {},
       "output_type": "pyout",
       "prompt_number": 101,
       "text": [
        "0    A series of escapades demonstrating the adage ...\n",
        "1    A series of escapades demonstrating the adage ...\n",
        "2                                             A series\n",
        "3                                                    A\n",
        "4                                               series\n",
        "5    of escapades demonstrating the adage that what...\n",
        "6                                                   of\n",
        "7    escapades demonstrating the adage that what is...\n",
        "8                                            escapades\n",
        "9    demonstrating the adage that what is good for ...\n",
        "Name: Phrase, dtype: object"
       ]
      }
     ],
     "prompt_number": 101
    },
    {
     "cell_type": "code",
     "collapsed": false,
     "input": [
      "# Sentiment \u662f\u56e0\u53d8\u91cf,0 \u662f\u4e0d\u7ed9\u529b(negative),4 \u662f\u7ed9\u529b(positive),\u5176\u4ed6\u4ee5\u6b64\u7c7b\u63a8\u3002Phrase\n",
      "#\u5217\u662f\u5f71\u8bc4\u7684\u5185\u5bb9\u3002\u5f71\u8bc4\u4e2d\u6bcf\u53e5\u8bdd\u90fd\u88ab\u5206\u5272\u6210\u4e00\u884c\n",
      "\n",
      "df2.Sentiment.describe()"
     ],
     "language": "python",
     "metadata": {},
     "outputs": [
      {
       "metadata": {},
       "output_type": "pyout",
       "prompt_number": 112,
       "text": [
        "count    156060.000000\n",
        "mean          2.063578\n",
        "std           0.893832\n",
        "min           0.000000\n",
        "25%           2.000000\n",
        "50%           2.000000\n",
        "75%           3.000000\n",
        "max           4.000000\n",
        "Name: Sentiment, dtype: float64"
       ]
      }
     ],
     "prompt_number": 112
    },
    {
     "cell_type": "code",
     "collapsed": false,
     "input": [
      "df2.Sentiment.value_counts() # \u5404\u4e2a\u53d6\u503c\u7684\u4e2a\u6570  "
     ],
     "language": "python",
     "metadata": {},
     "outputs": [
      {
       "metadata": {},
       "output_type": "pyout",
       "prompt_number": 107,
       "text": [
        "2    79582\n",
        "3    32927\n",
        "1    27273\n",
        "4     9206\n",
        "0     7072\n",
        "Name: Sentiment, dtype: int64"
       ]
      }
     ],
     "prompt_number": 107
    },
    {
     "cell_type": "code",
     "collapsed": false,
     "input": [
      "df2.Sentiment.count()  # \u627e\u603b\u4e2a\u6570"
     ],
     "language": "python",
     "metadata": {},
     "outputs": [
      {
       "metadata": {},
       "output_type": "pyout",
       "prompt_number": 108,
       "text": [
        "156060"
       ]
      }
     ],
     "prompt_number": 108
    },
    {
     "cell_type": "code",
     "collapsed": false,
     "input": [
      "df2.Sentiment.value_counts()/df2.Sentiment.count() # \u5404\u4e2a\u53d6\u503c\u7684\u6bd4\u4f8b"
     ],
     "language": "python",
     "metadata": {},
     "outputs": [
      {
       "metadata": {},
       "output_type": "pyout",
       "prompt_number": 111,
       "text": [
        "2    0.509945\n",
        "3    0.210989\n",
        "1    0.174760\n",
        "4    0.058990\n",
        "0    0.045316\n",
        "Name: Sentiment, dtype: float64"
       ]
      }
     ],
     "prompt_number": 111
    },
    {
     "cell_type": "markdown",
     "metadata": {},
     "source": [
      "## \u4e0b\u9762\u7528sklearn\u5bf9\u8fd9\u4e2a\u6570\u636e\u5e93\u8fdb\u884c\u5206\u7c7b \n",
      "\n",
      "### \u7f51\u683c\u641c\u7d22\n",
      "\n",
      "**\u8d85\u53c2\u6570**,\u662f\u9700\u8981\u624b\u52a8\u8c03\u8282\u7684\u53c2\u6570,\u6a21\u578b\u65e0\u6cd5\u5b66\u4e60\u3002\u6bd4\u5982,\u5728\u6211\u4eec\u7684\u5783\u573e\u77ed\u4fe1\u5206\u7c7b\u6a21\u578b\u4e2d,\u8d85\u53c2\u6570\u51fa\u73b0\u5728TF-IDF\u4e2d,\u7528\u6765\u79fb\u9664\u592a\u9891\u7e41\u548c\u592a\u7a00\u7f3a\u5355\u8bcd\u7684\u9891\u7387\u9608\u503c,\u76ee\u524d\u51fd\u6570\u6b63\u5219\u5316\u7684\u6743\u91cd\u503c\u3002\n",
      "\n",
      "\u5728scikit-learn\u91cc\u9762,\u8d85\u53c2\u6570\u662f\u5728\u6a21\u578b\u5efa\u7acb\u65f6\u8bbe\u7f6e\u7684\u3002**\u7f51\u683c\u641c\u7d22(Grid search)**\u5c31\u662f\u7528\u6765\u786e\u5b9a\u6700\u4f18\u8d85\u53c2\u6570\u7684\u65b9\u6cd5\u3002\u5176\u539f\u7406\u5c31\u662f\u9009\u53d6\u53ef\u80fd\u7684\u53c2\u6570\u4e0d\u65ad\u8fd0\u884c\u6a21\u578b\u83b7\u53d6\u6700\u4f73\u6548\u679c\u3002\u7f51\u683c\u641c\u7d22\u7528\u7684\u662f\u7a77\u4e3e\u6cd5,\u5176\u7f3a\u70b9\u5728\u4e8e\u5373\u4f7f\u6bcf\u4e2a\u8d85\u53c2\u6570\u7684\u53d6\u503c\u8303\u56f4\u90fd\u5f88\u5c0f,\u8ba1\u7b97\u91cf\u4e5f\u662f\u5de8\u5927\u7684\u3002\u4e0d\u8fc7\u8fd9\u662f\u4e00\u4e2a**\u5e76\u884c\u95ee\u9898**,\u53c2\u6570\u4e0e\u53c2\u6570\u5f7c\u6b64\u72ec\u7acb,\u8ba1\u7b97\u8fc7\u7a0b\u4e0d\u9700\u8981\u540c\u6b65\u3002\n",
      "\n",
      "scikit-learn\u6709**GridSearchCV()** \u51fd\u6570\u89e3\u51b3\u8fd9\u4e2a\u95ee\u9898:\n",
      "\n",
      "\n",
      "GridSearchCV() \u51fd\u6570\u7684\u53c2\u6570\u6709**\u5f85\u8bc4\u4f30\u6a21\u578bpipeline ,\u8d85\u53c2\u6570\u8bcd\u5178parameters \u548c\u6548\u679c\u8bc4\u4ef7\u6307\u6807scoring \u3002n_jobs \u662f\u6307\u5e76\u53d1\u8fdb\u7a0b\u6700\u5927\u6570\u91cf,\u8bbe\u7f6e\u4e3a-1 \u8868\u793a\u4f7f\u7528\u6240\u6709CPU\u6838\u5fc3\u8fdb\u7a0b**\u3002\u7ecf\u8fc7\u7f51\u683c\u8ba1\u7b97\u540e\u7684\u8d85\u53c2\u6570\u5728\u8bad\u7ec3\u96c6\u4e2d\u53d6\u5f97\u4e86\u5f88\u597d\u7684\u6548\u679c\u3002\n",
      "\n",
      "\n",
      "\n",
      "\u8ba1\u7b97 \u4e09\u4e2a\u6307\u6807(\u51c6\u786e\u5ea6\uff0c\u7cbe\u786e\u5ea6\uff0c\u53ec\u56de\u7387)\u53ef\u4ee5\u7528cross_validation_score,\u4e5f\u53ef\u4ee5\u7528accuract_score,precision_score,recall_score\u7b49"
     ]
    },
    {
     "cell_type": "code",
     "collapsed": false,
     "input": [
      "import pandas as pd\n",
      "from sklearn.feature_extraction.text import TfidfVectorizer\n",
      "from sklearn.linear_model.logistic import LogisticRegression\n",
      "from sklearn.grid_search import GridSearchCV\n",
      "from sklearn.pipeline import Pipeline\n",
      "from sklearn.cross_validation import train_test_split\n",
      "from sklearn.metrics import precision_score,recall_score,accuracy_score,classification_report,confusion_matrix\n",
      "import zipfile\n",
      "\n",
      "# \u8c8c\u4f3cpipeline\u548cparameters\u4e24\u4e2a\u53c2\u6570\u90fd\u4e0d\u600e\u4e48\u53d8\u5316 \n",
      "pipeline = Pipeline([\n",
      "    ('vect',TfidfVectorizer(stop_words='english')),\n",
      "    ('clf',LogisticRegression())\n",
      "])\n",
      "\n",
      "# \u521d\u59cb\u5316\u53c2\u6570 \uff0c\u7ed9\u51fa\u5404\u4e2a\u53c2\u6570\u7684\u9009\u62e9\u8303\u56f4 \n",
      "parameters = {\n",
      "    'vect__max_df': (0.25, 0.5, 0.75),\n",
      "    #'vect__stop_words': ('english', None ),\n",
      "    #'vect__max_features': (2500, 5000, 10000, None ),\n",
      "    'vect__ngram_range': ((1, 1), (1, 2)),\n",
      "    'vect__use_idf': ( True , False ),\n",
      "    #'vect__norm': ('l1', 'l2'),\n",
      "    #'clf__penalty': ('l1', 'l2'),\n",
      "    'clf__C': (0.01, 0.1, 1, 10),\n",
      "}\n",
      "z = zipfile.ZipFile('train.tsv.zip')\n",
      "df = pd.read_csv(z.open(z.namelist()[0]), header=0, delimiter='\\t')\n",
      "X,y = df['Phrase'],df['Sentiment'].as_matrix()\n",
      "X_train,X_test,y_train,y_test = train_test_split(X,y,train_size=0.5) # train_size\u8868\u793a\u8bad\u7ec3\u96c6\u5360\u7684\u6bd4\u4f8b\n",
      "\n",
      "grid_search = GridSearchCV(pipeline,parameters,n_jobs=-1,verbose=1,scoring='accuracy',cv=3)\n",
      "grid_search.fit(X_train,y_train)\n",
      "print('best score:%0.3f' % grid_search.best_score_)\n",
      "\n",
      "print('best param combine:')\n",
      "best_parameters = grid_search.best_estimator_.get_params()\n",
      "\n",
      "for param_name in sorted(parameters.keys()):\n",
      "    print('\\t%s: %r'%(param_name,best_parameters[param_name]))  \n",
      "\n"
     ],
     "language": "python",
     "metadata": {},
     "outputs": [
      {
       "output_type": "stream",
       "stream": "stdout",
       "text": [
        "Fitting 3 folds for each of 48 candidates, totalling 144 fits\n"
       ]
      },
      {
       "output_type": "stream",
       "stream": "stderr",
       "text": [
        "[Parallel(n_jobs=-1)]: Done  42 tasks      | elapsed:   25.9s\n",
        "[Parallel(n_jobs=-1)]: Done 144 out of 144 | elapsed:  2.6min finished\n"
       ]
      },
      {
       "output_type": "stream",
       "stream": "stdout",
       "text": [
        "best score:0.619\n",
        "best param combine:\n",
        "\tclf__C: 10\n",
        "\tvect__max_df: 0.25\n",
        "\tvect__ngram_range: (1, 2)\n",
        "\tvect__use_idf: False\n"
       ]
      }
     ],
     "prompt_number": 132
    },
    {
     "cell_type": "code",
     "collapsed": false,
     "input": [
      "predictions = grid_search.predict(X_test)\n",
      "print(' accuracy :', accuracy_score(y_test, predictions))\n",
      "print(' precision:', precision_score(y_test, predictions))\n",
      "print(' recall   :', recall_score(y_test, predictions))"
     ],
     "language": "python",
     "metadata": {},
     "outputs": [
      {
       "output_type": "stream",
       "stream": "stdout",
       "text": [
        "(' accuracy :', 0.63693451236703835)\n",
        "(' precision:', 0.62247342883810053)\n",
        "(' recall   :', 0.63693451236703835)\n"
       ]
      },
      {
       "output_type": "stream",
       "stream": "stderr",
       "text": [
        "/usr/lib/python2.7/dist-packages/sklearn/metrics/classification.py:1203: DeprecationWarning: The default `weighted` averaging is deprecated, and from version 0.18, use of precision, recall or F-score with multiclass or multilabel data or pos_label=None will result in an exception. Please set an explicit value for `average`, one of (None, 'micro', 'macro', 'weighted', 'samples'). In cross validation use, for instance, scoring=\"f1_weighted\" instead of scoring=\"f1\".\n",
        "  sample_weight=sample_weight)\n",
        "/usr/lib/python2.7/dist-packages/sklearn/metrics/classification.py:1304: DeprecationWarning: The default `weighted` averaging is deprecated, and from version 0.18, use of precision, recall or F-score with multiclass or multilabel data or pos_label=None will result in an exception. Please set an explicit value for `average`, one of (None, 'micro', 'macro', 'weighted', 'samples'). In cross validation use, for instance, scoring=\"f1_weighted\" instead of scoring=\"f1\".\n",
        "  sample_weight=sample_weight)\n"
       ]
      }
     ],
     "prompt_number": 133
    },
    {
     "cell_type": "code",
     "collapsed": false,
     "input": [],
     "language": "python",
     "metadata": {},
     "outputs": []
    }
   ],
   "metadata": {}
  }
 ]
}