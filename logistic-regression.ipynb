{
 "metadata": {
  "name": "",
  "signature": "sha256:d4144a3200c00ce0318dc5c30b97fa5824a6dc486b87116caf5863ab3eace75d"
 },
 "nbformat": 3,
 "nbformat_minor": 0,
 "worksheets": [
  {
   "cells": [
    {
     "cell_type": "markdown",
     "metadata": {},
     "source": [
      "# \u4ece\u7ebf\u6027\u56de\u5f52\u5230\u903b\u8f91\u56de\u5f52 \n",
      "\n",
      "\u4e00\u5143\u7ebf\u6027\u56de\u5f52,\u591a\u5143\u7ebf\u6027\u56de\u5f52\u548c\u591a\u9879\u5f0f\u56de\u5f52\u3002\u8fd9\u4e9b\u6a21\u578b\u90fd\u662f\u5e7f\u4e49\u7ebf\u6027\u56de\u5f52\u6a21\u578b\u7684\u5177\u4f53\u5f62\u5f0f\u3002\u5176\u5b9e\u903b\u8f91\u56de\u5f52\u5bf9\u5e94\u7684\u4e5f\u6709\u591a\u9879\u5f0f\u903b\u8f91\u56de\u5f52\u3002\n",
      "\n",
      "## \u903b\u8f91\u56de\u5f52\u5904\u7406\u4e8c\u5143\u5206\u7c7b\n",
      "\n",
      "\u666e\u901a\u7684\u7ebf\u6027\u56de\u5f52\u5047\u8bbe\u54cd\u5e94\u53d8\u91cf\u5448\u6b63\u6001\u5206\u5e03,\u4e5f\u79f0\u4e3a\u9ad8\u65af\u5206\u5e03(Gaussian distribution )\u3002\u6b63\u6001\u5206\u5e03\u6570\u636e\u662f\u5bf9\u79f0\u7684,\u4e14\u5747\u503c,\u4e2d\u4f4d\u6570\u548c\u4f17\u6570(mode)\u662f\u4e00\u6837\u7684\u3002\u5f88\u591a\u81ea\u7136\u73b0\u8c61\n",
      "\u90fd\u670d\u4ece\u6b63\u6001\u5206\u5e03\u3002\u6bd4\u5982,\u4eba\u7c7b\u7684\u8eab\u9ad8\u5c31\u670d\u4ece\u6b63\u6001\u5206\u5e03\u3002\u670d\u4ece\u6b63\u6001\u5206\u5e03\u7684\u539f\u56e0\u662f\u6837\u672c\u91cc\u9762\u566a\u58f0\u7684\u5b58\u5728\u7b26\u5408\u6b63\u6001\u5206\u5e03\u3002\n",
      "\n",
      "\n",
      "\u5728\u67d0\u4e9b\u95ee\u9898\u91cc,\u56e0\u53d8\u91cf\u4e0d\u662f\u6b63\u6001\u5206\u5e03\u7684\u3002\u6bd4\u5982,\u63b7\u4e00\u4e2a\u786c\u5e01**\u83b7\u53d6\u6b63\u53cd\u4e24\u9762\u7684\u6982\u7387\u5206\u5e03\u662f\u4f2f\u52aa\u529b\u5206\u5e03**(Bernoulli distribution),\u53c8\u79f0\u4e24\u70b9\u5206\u5e03\u6216\u80050-1\u5206\u5e03\u3002\u8868\u793a\u4e00\u4e2a\u4e8b\u4ef6\u53d1\u751f\u7684\u6982\u7387\u662f P ,\u4e0d\u53d1\u751f\u7684\u6982\u7387\u662f 1 \u2212 P ,\u6982\u7387\u5728{0,1} \u4e4b\u95f4\u3002\u7ebf\u6027\u56de\u5f52\u5047\u8bbe\u81ea\u53d8\u91cf\u503c\u7684\u53d8\u5316\u4f1a\u5f15\u8d77\u54cd\u5e94\u53d8\u91cf\u503c\u7684\u53d8\u5316,\u5982\u679c\u56e0\u53d8\u91cf\u7684\u503c\u662f\u6982\u7387\u7684,\u8fd9\u6761\u5047\u8bbe\u5c31\u4e0d\u6ee1\u8db3\u4e86\u3002\n",
      "\n",
      "\u56e0\u53d8\u91cf\u63cf\u8ff0\u4e86\u7c7b\u4f3c\u4e8e\u63b7\u4e00\u4e2a\u786c\u5e01\u7ed3\u679c\u4e3a\u6b63\u9762\u7684**\u6982\u7387**\u3002\u5982\u679c\u56e0\u53d8\u91cf\u7b49\u4e8e\u6216\u8d85\u8fc7\u4e86\u6307\u5b9a\u7684\u4e34\u754c\u503c,\u9884\u6d4b\u7ed3\u679c\u5c31\u662f\u6b63\u9762,\u5426\u5219\u9884\u6d4b\u7ed3\u679c\u5c31\u662f\u53cd\u9762\u3002\u56e0\u53d8\u91cf\u662f\u4e00\u4e2a\u50cf\u7ebf\u6027\u56de\u5f52\u4e2d\u7684\u89e3\u91ca\u53d8\u91cf\u6784\u6210\u7684\u51fd\u6570\u8868\u793a,\u79f0\u4e3a**\u903b\u8f91\u51fd\u6570(logistic function)**\u3002   $$ F(t) = \\frac{1}{1+e^{-t}} $$"
     ]
    },
    {
     "cell_type": "code",
     "collapsed": false,
     "input": [
      "# \u8fd9\u53e5\u8bdd\u5c31\u53ef\u4ee5\u628a\u56fe\u50cf\u663e\u793a\u5728\u7f51\u9875\u91cc\u9762 \u597d\u5389\u5bb3\u5440 \u54c8\u54c8\u54c8\u54c8\n",
      "%matplotlib inline   \n",
      "from matplotlib import pyplot as plt\n",
      "import numpy as np\n",
      "\n",
      "plt.figure()\n",
      "plt.axis([-6,6,0,1]) # \u8bbe\u7f6e\u5750\u6807\u523b\u5ea6\n",
      "plt.grid(True) #\u8bbe\u7f6e\u683c\u5b50 \n",
      "x = np.arange(-6,6,0.1)\n",
      "y=1/(1+np.e**(-x))\n",
      "\n",
      "plt.plot(x,y,'b-');\n",
      "plt.show()"
     ],
     "language": "python",
     "metadata": {},
     "outputs": [
      {
       "metadata": {},
       "output_type": "display_data",
       "png": "[encoded data removed]",
       "text": [
        "<matplotlib.figure.Figure at 0x7fc1f4ac94d0>"
       ]
      }
     ],
     "prompt_number": 13
    },
    {
     "cell_type": "markdown",
     "metadata": {},
     "source": [
      "---\n",
      "# \u5783\u573e\u90ae\u4ef6\u5206\u7c7b  \n",
      "\n",
      "spam classification\u3002\u8fd9\u91cc,\u6211\u4eec\u5206\u7c7b\u5783\u573e\u77ed\u4fe1\u3002\u6211\u4eec\u7528\u7b2c\u4e09\u7ae0\u4ecb\u7ecd\u7684**TF-IDF\u7b97\u6cd5\u6765\u62bd\u53d6\u77ed\u4fe1\u7684\u7279\u5f81\u5411\u91cf**,\u7136\u540e\u7528\u903b\u8f91\u56de\u5f52\u5206\u7c7b\u3002\n",
      "\n",
      "\u6211\u4eec\u53ef\u4ee5\u7528[ UCI Machine Learning Repository](http://archive.ics.uci.edu/ml/datasets/SMS+Spam+Collection)\u7684\u77ed\u4fe1\u5783\u573e\u5206\u7c7b\u6570\u636e\u96c6(SMS Spam Classification Data Set)\u3002\u9996\u5148,\u6211\u4eec\u8fd8\u662f\u7528Pandas\u505a\u4e00\u4e9b\u63cf\u8ff0\u6027\u7edf\u8ba1:\n"
     ]
    },
    {
     "cell_type": "code",
     "collapsed": false,
     "input": [
      "import pandas as pd\n",
      "\n",
      "df =pd.read_csv('SMSSpamCollection',delimiter='\\t',header=None)\n",
      "print df.head(4)  # \u8f93\u51fa\u5934\u90e84\u6761\u4fe1\u606f \n",
      "# \u4e0b\u9762\u8f93\u51fa\u5404\u7c7b\u7684\u7edf\u8ba1\u4fe1\u606f \n",
      "print '\u542bspam\u77ed\u4fe1\u6570\u91cf:',df[df[0]=='spam'][0].count() # \u5148\u7b5b\u9009\u51fa\u7b2c0\u5217\u4e3aspam\u7684\u90a3\u4e9b\u884c\uff0c\u7136\u540e\u518d\u7edf\u8ba1\u7b2c0\u5217\u6709\u6570\u636e\u7684\u6709\u591a\u5c11\u884c\n",
      "print '\u542b ham\u77ed\u4fe1\u6570\u91cf:',df[df[0]== 'ham'][0].count() # \u5148\u7b5b\u9009\u51fa\u7b2c0\u5217\u4e3aham \u7684\u90a3\u4e9b\u884c\uff0c\u7136\u540e\u518d\u7edf\u8ba1\u7b2c0\u5217\u6709\u6570\u636e\u7684\u6709\u591a\u5c11\u884c\n",
      "\n",
      "df.describe()"
     ],
     "language": "python",
     "metadata": {},
     "outputs": [
      {
       "output_type": "stream",
       "stream": "stdout",
       "text": [
        "      0                                                  1\n",
        "0   ham  Go until jurong point, crazy.. Available only ...\n",
        "1   ham                      Ok lar... Joking wif u oni...\n",
        "2  spam  Free entry in 2 a wkly comp to win FA Cup fina...\n",
        "3   ham  U dun say so early hor... U c already then say...\n",
        "\u542bspam\u77ed\u4fe1\u6570\u91cf: 747\n",
        "\u542b ham\u77ed\u4fe1\u6570\u91cf: 4825\n"
       ]
      },
      {
       "html": [
        "<div style=\"max-width:1500px;overflow:auto;\">\n",
        "<table border=\"1\" class=\"dataframe\">\n",
        "  <thead>\n",
        "    <tr style=\"text-align: right;\">\n",
        "      <th></th>\n",
        "      <th>0</th>\n",
        "      <th>1</th>\n",
        "    </tr>\n",
        "  </thead>\n",
        "  <tbody>\n",
        "    <tr>\n",
        "      <th>count</th>\n",
        "      <td>5572</td>\n",
        "      <td>5572</td>\n",
        "    </tr>\n",
        "    <tr>\n",
        "      <th>unique</th>\n",
        "      <td>2</td>\n",
        "      <td>5169</td>\n",
        "    </tr>\n",
        "    <tr>\n",
        "      <th>top</th>\n",
        "      <td>ham</td>\n",
        "      <td>Sorry, I'll call later</td>\n",
        "    </tr>\n",
        "    <tr>\n",
        "      <th>freq</th>\n",
        "      <td>4825</td>\n",
        "      <td>30</td>\n",
        "    </tr>\n",
        "  </tbody>\n",
        "</table>\n",
        "</div>"
       ],
       "metadata": {},
       "output_type": "pyout",
       "prompt_number": 29,
       "text": [
        "           0                       1\n",
        "count   5572                    5572\n",
        "unique     2                    5169\n",
        "top      ham  Sorry, I'll call later\n",
        "freq    4825                      30"
       ]
      }
     ],
     "prompt_number": 29
    },
    {
     "cell_type": "markdown",
     "metadata": {},
     "source": [
      "\u7528pandas\u52a0\u8f7d\u6570\u636e.csv \u6587\u4ef6,\u7136\u540e\u7528train_test_split \u5206\u6210\u8bad\u7ec3\u96c6(75%)\u548c\u6d4b\u8bd5\u96c6(25%)\n",
      "\n",
      "[Pandas\u2014\u2014ix vs loc vs iloc\u533a\u522b ](http://blog.csdn.net/xw_classmate/article/details/51333646)"
     ]
    },
    {
     "cell_type": "code",
     "collapsed": false,
     "input": [
      "from sklearn.cross_validation import train_test_split\n",
      "from sklearn.feature_extraction.text import TfidfVectorizer\n",
      "from sklearn.linear_model.logistic import LogisticRegression\n",
      "\n",
      "x_train_raw,x_test_raw,y_train,y_test = train_test_split(df[1],df[0])\n",
      "\n",
      "# \u5148\u7528Tfidvectorizer\u63d0\u53d6\u7279\u5f81 \n",
      "\n",
      "vectorizer = TfidfVectorizer()\n",
      "x_train = vectorizer.fit_transform(x_train_raw) #\u63d0\u53d6\u7279\u5f81\u5e76\u7ecf\u8fc7\u6743\u503c\u6293\u6362\n",
      "x_test = vectorizer.transform(x_test_raw)\n",
      "\n",
      "log_regress = LogisticRegression()\n",
      "log_regress.fit(x_train,y_train)\n",
      "\n",
      "y_test_predict = log_regress.predict(x_test)\n",
      "#\u5bf9\u4e00\u4e2alist\u53ef\u4ee5\u8fd9\u6837\u8f93\u51fa \n",
      "a = [3,2,1]\n",
      "for i,ai in enumerate(a):\n",
      "    print i,ai\n",
      "    \n",
      "for i,prediction in enumerate(y_test_predict[-5:]):\n",
      "    print('predict type:%s , xinxi %s' % ( prediction,x_test_raw.iloc[i] ) ) #.iloc \u662fpandas\u83b7\u5f97\u7b2ci\u884c\u7684\u6570\u636e\u7684\u65b9\u5f0f\n"
     ],
     "language": "python",
     "metadata": {},
     "outputs": [
      {
       "output_type": "stream",
       "stream": "stdout",
       "text": [
        " 0 3\n",
        "1 2\n",
        "2 1\n",
        "predict type:ham , xinxi Now only i reached home. . . I am very tired now. . I will come tomorro\n",
        "predict type:ham , xinxi I'm vivek:)i got call from your number.\n",
        "predict type:ham , xinxi How are you with moneY...as in to you...money aint a thing....how are you sha!\n",
        "predict type:ham , xinxi Congratulations ur awarded either a yrs supply of CDs from Virgin Records or a Mystery Gift GUARANTEED Call 09061104283 Ts&Cs www.smsco.net \u00a31.50pm approx 3mins\n",
        "predict type:ham , xinxi For ur chance to win \u00a3250 cash every wk TXT: PLAY to 83370. T's&C's www.music-trivia.net custcare 08715705022, 1x150p/wk.\n"
       ]
      }
     ],
     "prompt_number": 48
    },
    {
     "cell_type": "markdown",
     "metadata": {},
     "source": [
      "---\n",
      "# \u4e8c\u5143\u5206\u7c7b\u6548\u679c\u8bc4\u4f30\u65b9\u6cd5\n",
      "\n",
      "\u4e8c\u5143\u5206\u7c7b\u7684\u6548\u679c\u8bc4\u4f30\u65b9\u6cd5\u6709\u5f88\u591a,\u5e38\u89c1\u7684\u5305\u62ec\u7b2c\u4e00\u7ae0\u91cc\u4ecb\u7ecd\u7684\u80bf\u7624\u9884\u6d4b\u4f7f\u7528\u7684**\u51c6\u786e\u7387(accuracy),\u7cbe\u786e\u7387(precision)\u548c\u53ec\u56de\u7387(recall)**\u4e09\u9879\u6307\u6807,\u4ee5\u53ca**\u7efc\u5408\u8bc4\u4ef7\u6307\u6807(F1 measure)**, ROC AUC\u503c(Receiver Operating Characteristic ROC,Area Under Curve,AUC)\u3002\u8fd9\u4e9b\u6307\u6807\u8bc4\u4ef7\u7684\u6837\u672c\u5206\u7c7b\u662f**\u771f\u9633\u6027(true positives),\u771f\u9634\u6027(true negatives),\u5047\u9633\u6027(false positives),\u5047\u9634\u6027(false negatives)**\u3002\u9633\u6027\u548c\u9634\u6027\u6307\u5206\u7c7b,\u771f\u548c\u5047\u6307\u9884\u6d4b\u7684\u6b63\u786e\u4e0e\u5426\u3002\n",
      "\n",
      "\u6df7\u6dc6\u77e9\u9635(Confusion matrix),\u4e5f\u79f0\u5217\u8054\u8868\u5206\u6790(Contingencytable)\u53ef\u4ee5\u7528\u6765**\u63cf\u8ff0\u771f\u5047\u4e0e\u9634\u9633**\u7684\u5173\u7cfb\u3002\u77e9\u9635\u7684\u884c\u8868\u793a\u5b9e\u9645\u7c7b\u578b,\u5217\u8868\u793a\u9884\u6d4b\u7c7b\u578b\u3002\n",
      "\n",
      "\n",
      "[\u51c6\u786e\u7387\u4e0e\u53ec\u56de\u7387 ](http://blog.csdn.net/wangzhiqing3/article/details/9058523)"
     ]
    },
    {
     "cell_type": "code",
     "collapsed": false,
     "input": [
      "from sklearn.metrics import confusion_matrix\n",
      "import matplotlib.pyplot as plt\n",
      "y_test = [0, 0, 0, 0, 0, 1, 1, 1, 1, 1]\n",
      "y_pred = [0, 1, 0, 0, 0, 0, 0, 1, 1, 1]\n",
      "confusion_matrix = confusion_matrix(y_test, y_pred)\n",
      "print(confusion_matrix)\n",
      "plt.matshow(confusion_matrix)\n",
      "plt.title(unicode('\u6df7\u6dc6\u77e9\u9635','utf-8'))\n",
      "plt.colorbar()\n",
      "plt.ylabel(unicode(' \u5b9e\u9645\u7c7b\u578b','utf-8'))\n",
      "plt.xlabel(unicode(' \u9884\u6d4b\u7c7b\u578b','utf-8'))\n",
      "plt.show()\n",
      "\n",
      "print unicode('\u6df7\u6dc6\u77e9\u9635','utf-8')"
     ],
     "language": "python",
     "metadata": {},
     "outputs": [
      {
       "output_type": "stream",
       "stream": "stdout",
       "text": [
        "[[4 1]\n",
        " [2 3]]\n"
       ]
      },
      {
       "metadata": {},
       "output_type": "display_data",
       "png": "[encoded data removed]",
       "text": [
        "<matplotlib.figure.Figure at 0x7fc1e5f43cd0>"
       ]
      },
      {
       "output_type": "stream",
       "stream": "stdout",
       "text": [
        "\u6df7\u6dc6\u77e9\u9635\n"
       ]
      }
     ],
     "prompt_number": 59
    },
    {
     "cell_type": "markdown",
     "metadata": {},
     "source": [
      "## \u51c6\u786e\u5ea6\n",
      "\n",
      "\u51c6\u786e\u7387\u662f\u5206\u7c7b\u5668**\u9884\u6d4b\u6b63\u786e\u6027**\u7684\u8bc4\u4f30\u6307\u6807,\u4e5f\u5c31\u662f\u6b63\u786e\u5206\u7c7b\u7684\u6982\u7387\u3002scikit-learn\u63d0\u4f9b\u4e86accuracy_score \u6765\u8ba1\u7b97:\n",
      "\n",
      "$$ accu rate = \\frac{TP+TN}{TP+TN+FP+FN} $$"
     ]
    },
    {
     "cell_type": "code",
     "collapsed": false,
     "input": [
      "from sklearn.metrics import accuracy_score\n",
      "\n",
      "y_pred,y_true = [0,1,0,0],[1,1,0,0]\n",
      "\n",
      "\n",
      "print(accuracy_score(y_true,y_pred))"
     ],
     "language": "python",
     "metadata": {},
     "outputs": [
      {
       "output_type": "stream",
       "stream": "stdout",
       "text": [
        "0.75\n"
       ]
      }
     ],
     "prompt_number": 65
    },
    {
     "cell_type": "markdown",
     "metadata": {},
     "source": [
      "LogisticRegression.score() \u7528\u6765\u8ba1\u7b97\u6a21\u578b\u9884\u6d4b\u7684\u51c6\u786e\u7387:\n",
      "\n",
      "LogisticRegression.cross_validation_score()\u53ef\u4ee5\u8ba1\u7b97\u4ea4\u53c9\u9a8c\u8bc1\u5404\u4e2a\u6b65\u9aa4\u7684\u51c6\u786e\u7387"
     ]
    },
    {
     "cell_type": "code",
     "collapsed": false,
     "input": [
      "from sklearn.cross_validation import cross_val_score\n",
      "scores = cross_val_score(log_regress,x_train,y_train,cv=5)\n",
      "print(unicode('\u51c6\u786e\u5ea6:','utf-8'))\n",
      "print(np.mean(scores),scores)"
     ],
     "language": "python",
     "metadata": {},
     "outputs": [
      {
       "output_type": "stream",
       "stream": "stdout",
       "text": [
        "\u51c6\u786e\u5ea6:\n",
        "(0.95381766932085643, array([ 0.94384707,  0.96176822,  0.96047904,  0.95449102,  0.94850299]))\n"
       ]
      }
     ],
     "prompt_number": 79
    },
    {
     "cell_type": "markdown",
     "metadata": {},
     "source": [
      "\u51c6\u786e\u7387\u662f\u5206\u7c7b\u5668\u9884\u6d4b\u6b63\u786e\u6027\u7684\u6bd4\u4f8b,\u4f46\u662f\u5e76\u4e0d\u80fd\u5206\u8fa8\u51fa\u5047\u9633\u6027\u9519\u8bef\u548c\u5047\u9634\u6027\u9519\u8bef\u3002\u5728\u6709\u4e9b\u95ee\u9898\u91cc\u9762,\u6bd4\u5982\u7b2c\u4e00\u7ae0\u7684\u80bf\u7624\u9884\u6d4b\u95ee\u9898\u4e2d,**\u5047\u9634\u6027\u4e0e\u5047\u9633\u6027**\u8981\u4e25\u91cd\u5f97\u591a,\u5176\u4ed6\u7684\u95ee\u9898\u91cc\u53ef\u80fd\u76f8\u53cd\u3002\u53e6\u5916,\u6709\u65f6\u51c6\u786e\u7387\u5e76\u975e\u4e00\u4e2a\u6709\u6548\u7684\u8861\u91cf\u6307\u6807,\u5982\u679c**\u5206\u7c7b\u7684\u6bd4\u4f8b\u5728\u6837\u672c\u4e2d\u4e25\u91cd\u5931\u8c03**\u3002\u6bd4\u5982FBI\u7684\u4eba\u8138\u8bc6\u522b\u8fdb\u5165\u7cfb\u7edf\uff0c\u5047\u9633\u6027\u540e\u679c\u66f4\u4e25\u91cd(\u9519\u8bef\u5730\u8ba9\u8fdb),\u800c\u8d85\u5e02\u6307\u7eb9\u6298\u6263\u7cfb\u7edf\u6765\u8bf4,\u5047\u9634\u6027\uff08\u9519\u8bef\u5730\u4e0d\u8ba9\u8fdb\uff09\u540e\u679c\u66f4\u4e25\u91cd\n",
      "\n",
      "---\n",
      "## \u7cbe\u786e\u7387\u548c\u53ec\u56de\u7387\n",
      "\n",
      "\u7cbe\u786e\u7387\u662f\u6307\u5206\u7c7b\u5668\u9884\u6d4b\u51fa\u7684\u5783\u573e\u77ed\u4fe1\u4e2d\u771f\u7684\u662f\u5783\u573e\u77ed\u4fe1\u7684\u6bd4\u4f8b  $ \\frac{TP}{TP+FP} $\uff0c\u5f3a\u8c03\u9884\u6d4b\u51fa\u7684\u9633\u6027\u7684\u771f\u5b9e\u6027\uff0c\u8003\u5bdf\u5bf9\u8c61\u662f\u9884\u6d4b\u51fa\u7684\u9633\u6027\n",
      "\n",
      "Recall \u53ec\u56de\u7387\u5728\u533b\u5b66\u9886\u57df\u4e5f\u53eb\u505a\u7075\u654f\u5ea6(sensitivity),\u5728\u672c\u4f8b\u4e2d\u662f\u6307\u6240\u6709\u771f\u7684\u5783\u573e\u77ed\u4fe1\u88ab\u5206\u7c7b\u5668\u6b63\u786e\u627e\u51fa\u6765\u7684\u6bd4\u4f8b$ \\frac{TP}{TP+FN} $,\u5f3a\u8c03\u771f\u5b9e\u9633\u6027\u7684\u9884\u6d4b\uff0c\u5f3a\u8c03\u7684\u662f\u771f\u5b9e\u7684\u9633\u6027 \n",
      "\n"
     ]
    },
    {
     "cell_type": "code",
     "collapsed": false,
     "input": [
      "precisions = cross_val_score(log_regress, x_train, y_train, cv=5,scoring='prediction')\n",
      "#print(' \u7cbe\u786e\u7387:', np.mean(precisions), precisions)\n",
      "recalls = cross_val_score(log_regress, x_train, y_train, cv=5, scoring='recall')\n",
      "#print(' \u53ec\u56de\u7387:', np.mean(recalls), recalls)"
     ],
     "language": "python",
     "metadata": {},
     "outputs": [
      {
       "ename": "ValueError",
       "evalue": "'prediction' is not a valid scoring value. Valid options are ['accuracy', 'adjusted_rand_score', 'average_precision', 'f1', 'f1_macro', 'f1_micro', 'f1_samples', 'f1_weighted', 'log_loss', 'mean_absolute_error', 'mean_squared_error', 'median_absolute_error', 'precision', 'precision_macro', 'precision_micro', 'precision_samples', 'precision_weighted', 'r2', 'recall', 'recall_macro', 'recall_micro', 'recall_samples', 'recall_weighted', 'roc_auc']",
       "output_type": "pyerr",
       "traceback": [
        "\u001b[0;31m---------------------------------------------------------------------------\u001b[0m\n\u001b[0;31mValueError\u001b[0m                                Traceback (most recent call last)",
        "\u001b[0;32m<ipython-input-87-2aba8bb6e2ad>\u001b[0m in \u001b[0;36m<module>\u001b[0;34m()\u001b[0m\n\u001b[0;32m----> 1\u001b[0;31m \u001b[0mprecisions\u001b[0m \u001b[0;34m=\u001b[0m \u001b[0mcross_val_score\u001b[0m\u001b[0;34m(\u001b[0m\u001b[0mlog_regress\u001b[0m\u001b[0;34m,\u001b[0m \u001b[0mx_train\u001b[0m\u001b[0;34m,\u001b[0m \u001b[0my_train\u001b[0m\u001b[0;34m,\u001b[0m \u001b[0mcv\u001b[0m\u001b[0;34m=\u001b[0m\u001b[0;36m5\u001b[0m\u001b[0;34m,\u001b[0m\u001b[0mscoring\u001b[0m\u001b[0;34m=\u001b[0m\u001b[0;34m'prediction'\u001b[0m\u001b[0;34m)\u001b[0m\u001b[0;34m\u001b[0m\u001b[0m\n\u001b[0m\u001b[1;32m      2\u001b[0m \u001b[0;31m#print(' \u7cbe\u786e\u7387:', np.mean(precisions), precisions)\u001b[0m\u001b[0;34m\u001b[0m\u001b[0;34m\u001b[0m\u001b[0m\n\u001b[1;32m      3\u001b[0m \u001b[0mrecalls\u001b[0m \u001b[0;34m=\u001b[0m \u001b[0mcross_val_score\u001b[0m\u001b[0;34m(\u001b[0m\u001b[0mlog_regress\u001b[0m\u001b[0;34m,\u001b[0m \u001b[0mx_train\u001b[0m\u001b[0;34m,\u001b[0m \u001b[0my_train\u001b[0m\u001b[0;34m,\u001b[0m \u001b[0mcv\u001b[0m\u001b[0;34m=\u001b[0m\u001b[0;36m5\u001b[0m\u001b[0;34m,\u001b[0m \u001b[0mscoring\u001b[0m\u001b[0;34m=\u001b[0m\u001b[0;34m'recall'\u001b[0m\u001b[0;34m)\u001b[0m\u001b[0;34m\u001b[0m\u001b[0m\n\u001b[1;32m      4\u001b[0m \u001b[0;31m#print(' \u53ec\u56de\u7387:', np.mean(recalls), recalls)\u001b[0m\u001b[0;34m\u001b[0m\u001b[0;34m\u001b[0m\u001b[0m\n",
        "\u001b[0;32m/usr/lib/python2.7/dist-packages/sklearn/cross_validation.pyc\u001b[0m in \u001b[0;36mcross_val_score\u001b[0;34m(estimator, X, y, scoring, cv, n_jobs, verbose, fit_params, pre_dispatch)\u001b[0m\n\u001b[1;32m   1423\u001b[0m \u001b[0;34m\u001b[0m\u001b[0m\n\u001b[1;32m   1424\u001b[0m     \u001b[0mcv\u001b[0m \u001b[0;34m=\u001b[0m \u001b[0mcheck_cv\u001b[0m\u001b[0;34m(\u001b[0m\u001b[0mcv\u001b[0m\u001b[0;34m,\u001b[0m \u001b[0mX\u001b[0m\u001b[0;34m,\u001b[0m \u001b[0my\u001b[0m\u001b[0;34m,\u001b[0m \u001b[0mclassifier\u001b[0m\u001b[0;34m=\u001b[0m\u001b[0mis_classifier\u001b[0m\u001b[0;34m(\u001b[0m\u001b[0mestimator\u001b[0m\u001b[0;34m)\u001b[0m\u001b[0;34m)\u001b[0m\u001b[0;34m\u001b[0m\u001b[0m\n\u001b[0;32m-> 1425\u001b[0;31m     \u001b[0mscorer\u001b[0m \u001b[0;34m=\u001b[0m \u001b[0mcheck_scoring\u001b[0m\u001b[0;34m(\u001b[0m\u001b[0mestimator\u001b[0m\u001b[0;34m,\u001b[0m \u001b[0mscoring\u001b[0m\u001b[0;34m=\u001b[0m\u001b[0mscoring\u001b[0m\u001b[0;34m)\u001b[0m\u001b[0;34m\u001b[0m\u001b[0m\n\u001b[0m\u001b[1;32m   1426\u001b[0m     \u001b[0;31m# We clone the estimator to make sure that all the folds are\u001b[0m\u001b[0;34m\u001b[0m\u001b[0;34m\u001b[0m\u001b[0m\n\u001b[1;32m   1427\u001b[0m     \u001b[0;31m# independent, and that it is pickle-able.\u001b[0m\u001b[0;34m\u001b[0m\u001b[0;34m\u001b[0m\u001b[0m\n",
        "\u001b[0;32m/usr/lib/python2.7/dist-packages/sklearn/metrics/scorer.pyc\u001b[0m in \u001b[0;36mcheck_scoring\u001b[0;34m(estimator, scoring, allow_none)\u001b[0m\n\u001b[1;32m    236\u001b[0m                         \"'fit' method, %r was passed\" % estimator)\n\u001b[1;32m    237\u001b[0m     \u001b[0;32melif\u001b[0m \u001b[0mhas_scoring\u001b[0m\u001b[0;34m:\u001b[0m\u001b[0;34m\u001b[0m\u001b[0m\n\u001b[0;32m--> 238\u001b[0;31m         \u001b[0;32mreturn\u001b[0m \u001b[0mget_scorer\u001b[0m\u001b[0;34m(\u001b[0m\u001b[0mscoring\u001b[0m\u001b[0;34m)\u001b[0m\u001b[0;34m\u001b[0m\u001b[0m\n\u001b[0m\u001b[1;32m    239\u001b[0m     \u001b[0;32melif\u001b[0m \u001b[0mhasattr\u001b[0m\u001b[0;34m(\u001b[0m\u001b[0mestimator\u001b[0m\u001b[0;34m,\u001b[0m \u001b[0;34m'score'\u001b[0m\u001b[0;34m)\u001b[0m\u001b[0;34m:\u001b[0m\u001b[0;34m\u001b[0m\u001b[0m\n\u001b[1;32m    240\u001b[0m         \u001b[0;32mreturn\u001b[0m \u001b[0m_passthrough_scorer\u001b[0m\u001b[0;34m\u001b[0m\u001b[0m\n",
        "\u001b[0;32m/usr/lib/python2.7/dist-packages/sklearn/metrics/scorer.pyc\u001b[0m in \u001b[0;36mget_scorer\u001b[0;34m(scoring)\u001b[0m\n\u001b[1;32m    195\u001b[0m             raise ValueError('%r is not a valid scoring value. '\n\u001b[1;32m    196\u001b[0m                              \u001b[0;34m'Valid options are %s'\u001b[0m\u001b[0;34m\u001b[0m\u001b[0m\n\u001b[0;32m--> 197\u001b[0;31m                              % (scoring, sorted(SCORERS.keys())))\n\u001b[0m\u001b[1;32m    198\u001b[0m     \u001b[0;32melse\u001b[0m\u001b[0;34m:\u001b[0m\u001b[0;34m\u001b[0m\u001b[0m\n\u001b[1;32m    199\u001b[0m         \u001b[0mscorer\u001b[0m \u001b[0;34m=\u001b[0m \u001b[0mscoring\u001b[0m\u001b[0;34m\u001b[0m\u001b[0m\n",
        "\u001b[0;31mValueError\u001b[0m: 'prediction' is not a valid scoring value. Valid options are ['accuracy', 'adjusted_rand_score', 'average_precision', 'f1', 'f1_macro', 'f1_micro', 'f1_samples', 'f1_weighted', 'log_loss', 'mean_absolute_error', 'mean_squared_error', 'median_absolute_error', 'precision', 'precision_macro', 'precision_micro', 'precision_samples', 'precision_weighted', 'r2', 'recall', 'recall_macro', 'recall_micro', 'recall_samples', 'recall_weighted', 'roc_auc']"
       ]
      }
     ],
     "prompt_number": 87
    },
    {
     "cell_type": "code",
     "collapsed": false,
     "input": [],
     "language": "python",
     "metadata": {},
     "outputs": []
    }
   ],
   "metadata": {}
  }
 ]
}