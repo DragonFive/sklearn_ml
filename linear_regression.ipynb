{
 "metadata": {
  "name": "",
  "signature": "sha256:e0edbbd5230c3e941661cd39d7aca0a3d13cccad38dfc9857f0434663b9f21fb"
 },
 "nbformat": 3,
 "nbformat_minor": 0,
 "worksheets": [
  {
   "cells": [
    {
     "cell_type": "markdown",
     "metadata": {},
     "source": [
      "# matplotlib\n",
      "\u7528matplotlib\u753b\u51fa\u6570\u636e\u66f2\u7ebf"
     ]
    },
    {
     "cell_type": "code",
     "collapsed": false,
     "input": [
      "# \n",
      "%matplotlib inline\n",
      "# \u4e0b\u9762\u4f7f\u7528pyplot\u7684\u7528\u6cd5\n",
      "import matplotlib.pyplot as plt\n",
      "# \u4e0b\u9762\u8bbe\u7f6e\u5b57\u4f53\n",
      "# from matplotlib.font_manager import FontProperties\n",
      "# font = FontProperties(fname=r\"\")\n",
      "\n",
      "\n",
      "def runplt():\n",
      "    plt.figure()\n",
      "    plt.title('price and zhijing')\n",
      "    plt.xlabel('zhijing')\n",
      "    plt.ylabel('price')\n",
      "    # \u8bbe\u7f6ex\u8f74\u548cy\u8f74\u7684\u8303\u56f4\n",
      "    plt.axis([0,25,0,25])\n",
      "    # \u663e\u793a\u683c\u5b50\u7ebf\n",
      "    plt.grid(True)\n",
      "    return plt\n",
      "\n",
      "\n",
      "plt = runplt();\n",
      "X = [[6], [8], [10], [14], [18]]\n",
      "y = [[7], [9], [13], [17.5], [18]]\n",
      "plt.plot(X, y, 'k.')\n",
      "#plt.show()   "
     ],
     "language": "python",
     "metadata": {},
     "outputs": [
      {
       "metadata": {},
       "output_type": "pyout",
       "prompt_number": 21,
       "text": [
        "[<matplotlib.lines.Line2D at 0x7f08ba370d10>]"
       ]
      },
      {
       "metadata": {},
       "output_type": "display_data",
       "png": "[encoded data removed]",
       "text": [
        "<matplotlib.figure.Figure at 0x7f08ba370390>"
       ]
      }
     ],
     "prompt_number": 21
    },
    {
     "cell_type": "code",
     "collapsed": false,
     "input": [
      "import numpy as np\n",
      "np.shape(X)"
     ],
     "language": "python",
     "metadata": {},
     "outputs": [
      {
       "metadata": {},
       "output_type": "pyout",
       "prompt_number": 25,
       "text": [
        "(5, 1)"
       ]
      }
     ],
     "prompt_number": 25
    },
    {
     "cell_type": "markdown",
     "metadata": {},
     "source": [
      "# \u7ebf\u6027\u6a21\u578b\n",
      "---\n",
      "\u4f7f\u7528sklearn\u91cc\u9762\u5230\u7ebf\u6027\u56de\u5f52\u6a21\u578b \n",
      "\n",
      "** \u9700\u8981\u6ce8\u610f\u7684\u662f\u4e00\u5b9a\u8981\u4f20\u8fdb\u53bb\u7684\u662f\u5217\u5411\u91cf\u5440 **\n",
      "\n",
      "\u6d41\u7a0b\u4e00\u822c\u662f\u8fd9\u6837\u7684\n",
      "\n",
      ">1. \u83b7\u5f97\u6a21\u578b\n",
      ">2. \u7528\u6a21\u578b\u6765fit\u8bad\u7ec3\u6570\u636e\n",
      ">3. \u5bf9\u6d4b\u8bd5\u6570\u636e\u8fdb\u884c\u9884\u6d4b\n",
      "\n",
      "\n"
     ]
    },
    {
     "cell_type": "code",
     "collapsed": false,
     "input": [
      "# \u5bfc\u5165\u7ebf\u6027\u56de\u5f52\u6a21\u578b\n",
      "from sklearn.linear_model import LinearRegression\n",
      "\n",
      "# \u83b7\u5f97\u6a21\u578b\n",
      "model = LinearRegression()\n",
      "# \u83b7\u5f97\u6700fitting\u8fd9\u4e9b\u6570\u636e\u7684\u7ebf\u6027\u56de\u5f52\u5047\u8bbe\n",
      "testData=[[12],[20],[3],[13],[17]]\n",
      "\n",
      "model.fit(X,y)\n",
      "\n",
      "# \u7136\u540e\u5728\u5bf9\u6d4b\u8bd5\u6570\u636e\u8fdb\u884c\u9884\u6d4b;\n",
      "result = model.predict(testData)"
     ],
     "language": "python",
     "metadata": {},
     "outputs": []
    },
    {
     "cell_type": "markdown",
     "metadata": {},
     "source": [
      "# matplotlib\n",
      "\n",
      "\u505a\u66f2\u7ebf\u548c\u753b\u70b9\u7684\u533a\u522b\u4ec5\u5728\u4e8e\u7b2c\u4e09\u4e2a\u53c2\u6570\u4e0d\u4e00\u6837 \n",
      "\n",
      "\u4e0b\u9762\u7684\u4f8b\u5b50\u5c55\u793a\u4e86\uff0c\u5982\u4f55\u5728\u4e00\u4e2a\u753b\u677f\u4e0a\u9762\u753b\u4e24\u6b21"
     ]
    },
    {
     "cell_type": "code",
     "collapsed": false,
     "input": [
      "plt.plot(X,y,'b.')\n",
      "plt.plot(testData,result,'r-*')\n",
      "plt.show()"
     ],
     "language": "python",
     "metadata": {},
     "outputs": [
      {
       "metadata": {},
       "output_type": "display_data",
       "png": "[encoded data removed]",
       "text": [
        "<matplotlib.figure.Figure at 0x7f08af3c8450>"
       ]
      }
     ],
     "prompt_number": 31
    },
    {
     "cell_type": "markdown",
     "metadata": {},
     "source": [
      "## \u8ba1\u7b97\u6a21\u578b\u6b8b\u5dee\n",
      "\n",
      "\u6b8b\u5dee\u6307\u7684\u662f\u8bad\u7ec3\u6837\u672c\u4ee3\u5165\u6a21\u578b\u91cc\u9762\u5f97\u5230\u5230\u7ed3\u679c\u4e0e\u81ea\u5df1label\u7684\u5dee\u8ddd\uff0c\u53ef\u4ee5\u8868\u793a$ E_{in} $\n",
      "\n",
      "\u4e0b\u9762\u662f\u753b\u70b9\n"
     ]
    },
    {
     "cell_type": "code",
     "collapsed": false,
     "input": [
      "ylabel = model.predict(X)\n",
      "plt.plot(X,y,'b*')\n",
      "plt.plot(testData,result,'r-')\n",
      "# \u9884\u6d4b\u6bcf\u4e00\u4e2a\u70b9,\u6ce8\u610f\u8fd9\u91cc\u7684x\u4e5f\u662f\u4e2alist;\n",
      "for idx,x in enumerate(X):\n",
      "    plt.plot([x,x],[y[idx],ylabel[idx]],'g-');\n",
      "    #idx\n",
      "    \n",
      "plt.show()\n",
      "\n"
     ],
     "language": "python",
     "metadata": {},
     "outputs": [
      {
       "metadata": {},
       "output_type": "display_data",
       "png": "[encoded data removed]",
       "text": [
        "<matplotlib.figure.Figure at 0x7f08af3c8b10>"
       ]
      }
     ],
     "prompt_number": 54
    },
    {
     "cell_type": "code",
     "collapsed": false,
     "input": [
      "'can cha square sum is %.2f' % np.mean((model.predict(X)-y)**2)"
     ],
     "language": "python",
     "metadata": {},
     "outputs": [
      {
       "metadata": {},
       "output_type": "pyout",
       "prompt_number": 53,
       "text": [
        "'can cha square sum is 1.75'"
       ]
      }
     ],
     "prompt_number": 53
    },
    {
     "cell_type": "markdown",
     "metadata": {},
     "source": [
      "# \u6a21\u578b\u8bc4\u4f30\n",
      "\n",
      "\u6709\u4e9b\u5ea6\u91cf\u65b9\u6cd5\u53ef\u4ee5\u7528\u6765\u8bc4\u4f30\u9884\u6d4b\u6548\u679c\uff0c\u6211\u4eec\u7528R\u65b9\u8868\u793a\u6a21\u578b\u5bf9\u73b0\u5b9e\u6570\u636e\u62df\u5408\u7684\u7a0b\u5ea6\u3002 \n",
      "\n",
      "$$ R^2 = 1-\\frac{SS_{res}}{SS_{tot}} $$\n",
      "\n",
      "\u5176\u4e2d $ SS_{res} $ \u8868\u793ag(x)\u6b8b\u5dee\u5e73\u65b9\u548c\uff0c$ SS_{tot} $\u8868\u793ay\u7684\u65b9\u5dee\u3002($  R^2<=1 $ \u4e0b\u9650\u662f\u8d1f\u65e0\u7a77)\n",
      "\n",
      "\u65b9\u5dee\u7ea6\u5927\u6548\u679c\u8d8a\u597d "
     ]
    },
    {
     "cell_type": "code",
     "collapsed": false,
     "input": [
      "X_test = [[8], [9], [11], [16], [12]]\n",
      "y_test = [[11], [8.5], [15], [18], [11]]\n",
      "model.score(X_test, y_test)"
     ],
     "language": "python",
     "metadata": {},
     "outputs": [
      {
       "metadata": {},
       "output_type": "pyout",
       "prompt_number": 55,
       "text": [
        "0.6620052929422553"
       ]
      }
     ],
     "prompt_number": 55
    },
    {
     "cell_type": "markdown",
     "metadata": {},
     "source": [
      "# \u591a\u5143\u7ebf\u6027\u56de\u5f52\n",
      "---\n",
      "\n",
      "$$ Y=X\\beta $$\n",
      "\n",
      "\u8fd9\u91cc\u8981\u6c42$\\beta$ \u53ef\u4ee5\u7528\u6700\u5c0f\u4e8c\u4e58\u6cd5\u6c42\u51fa\u6765"
     ]
    },
    {
     "cell_type": "code",
     "collapsed": false,
     "input": [
      "X = [[6, 2], [8, 1], [10, 0], [14, 2], [18, 0]]\n",
      "y = [[7], [9], [13], [17.5], [18]]\n",
      "model = LinearRegression()\n",
      "model.fit(X, y)\n",
      "X_test = [[8, 2], [9, 0], [11, 2], [16, 2], [12, 0]]\n",
      "y_test = [[11], [8.5], [15], [18], [11]]\n",
      "predictions = model.predict(X_test)\n",
      "for i, prediction in enumerate(predictions):\n",
      "    print 'Predicted: %s, Target: %s' % (prediction, y_test[i]) \n",
      "    print 'R-squared: %.2f' % model.score(X_test, y_test) \n"
     ],
     "language": "python",
     "metadata": {},
     "outputs": [],
     "prompt_number": 66
    },
    {
     "cell_type": "markdown",
     "metadata": {},
     "source": [
      "# \u591a\u9879\u5f0f\u56de\u5f52\n",
      "\n",
      "\u7528\u591a\u9879\u5f0f(\u975e\u7ebf\u6027)\u56de\u5f52\uff0c\u4e00\u79cd\u7279\u6b8a\u5230\u591a\u5143\u7ebf\u6027\u56de\u5f52\u65b9\u6cd5\uff08\u901a\u8fc7\u5750\u6807\u8f6c\u6362\uff09\uff0c\u589e\u52a0\u4e86\u6307\u6570\u9879(x\u7684\u6b21\u6570\u5927\u4e8e1)\u3002\u73b0\u5b9e\u4e16\u754c\u4e2d\u7684\u66f2\u7ebf\u5173\u7cfb\u90fd\u662f\u901a\u8fc7\u591a\u9879\u5f0f\u5b9e\u73b0\u7684\uff0c\u5176\u5b9e\u73b0\u65b9\u5f0f\u548c\u591a\u5143\u7ebf\u6027\u56de\u5f52\u7c7b\u4f3c \n",
      "\n",
      "---\n",
      "\n",
      "## \u4e8c\u6b21\u56de\u5f52\n",
      "\n",
      "\u56de\u5f52\u65b9\u7a0b\u6709\u4e2a\u4e8c\u6b21\u9879\uff0c\u516c\u5f0f\u5982\u4e0b\uff1a\n",
      "$$ y=\\alpha + \\beta_1x+\\beta_2x^2 $$\n",
      "\n",
      "\u6211\u4eec\u9700\u8981\u901a\u8fc7\u7a7a\u95f4\u53d8\u6362\u628a\u8fd9\u4e2a\u66f2\u7ebf\u6620\u5c04\u5230\u53e6\u4e00\u4e2a\u7a7a\u95f4\u91cc\u9762\u7684\u7ebf\u6027\u7684,\u9700\u8981\u7528\u5230sklearn\u7684preprocessing(\u9884\u5904\u7406\u6a21\u5757)\u91cc\u9762\u7684\u591a\u9879\u5f0f\u7279\u5f81\u8f6c\u6362PolynomialFeatures\n",
      "\n",
      "```\n",
      "xx.reshape(xx.shape[0],1)\n",
      "```\n",
      "\u662f\u5427\u4e00\u4e2a\u4e00\u7ef4\u7684\u6570\u7ec4\u8f6c\u5316\u4e3a\u4e00\u4e2a \u5411\u91cf \n"
     ]
    },
    {
     "cell_type": "code",
     "collapsed": false,
     "input": [
      "from sklearn.preprocessing import PolynomialFeatures\n",
      "# \u5148\u753b\u51fa\u539f\u59cb\u7684\u7ebf\u6027\u56fe\u50cf\n",
      "X_train = [ [6],[8],[10],[14],[18] ]\n",
      "y_train = [ [7],[9],[13],[17.5],[18] ]\n",
      "\n",
      "X_test  = [ [6],[8],[11],[16] ]\n",
      "y_test  = [ [8],[12],[15],[18] ]\n",
      "plt.plot(X_train,y_train,'k*')\n",
      "\n",
      "## \u5148\u751f\u6210\u6a21\u578b\n",
      "linRegress = LinearRegression()\n",
      "linRegress.fit(X_train,y_train)\n",
      "\n",
      "## \u4e0b\u9762\u901a\u8fc7\u628a\u4ea7\u751f\u7684\u76f4\u7ebf\u4e0a\u7684\u70b9\u90fd\u753b\u51fa\u6765\u628a\u6574\u4e2a\u56fe\u50cf\u753b\u51fa\u6765\n",
      "\n",
      "xx = np.linspace(0,25,100) # \u628a0\u523025\u4e4b\u95f4\u5206\u6210100\u4efd\n",
      "\n",
      "# ## \u8fd9\u91ccxx\u662f 100\u5217\u7684\uff0c\u6211\u4eec\u5e94\u8be5\u628a\u5b83\u8f6c\u5316\u4f4d100\u884c1\u5217\u7684list\n",
      "yy = linRegress.predict(xx.reshape(xx.shape[0],1))\n",
      "\n",
      "plt.plot(xx,yy,'b-')\n",
      "\n",
      "\n",
      "\n",
      "\n"
     ],
     "language": "python",
     "metadata": {},
     "outputs": [
      {
       "metadata": {},
       "output_type": "pyout",
       "prompt_number": 134,
       "text": [
        "[<matplotlib.lines.Line2D at 0x7f08ae82ba50>]"
       ]
      },
      {
       "metadata": {},
       "output_type": "display_data",
       "png": "[encoded data removed]",
       "text": [
        "<matplotlib.figure.Figure at 0x7f08ae82bc10>"
       ]
      }
     ],
     "prompt_number": 134
    },
    {
     "cell_type": "markdown",
     "metadata": {},
     "source": [
      "## \u4e0b\u9762\u8fdb\u884c\u975e\u7ebf\u6027\u53d8\u6362 \n",
      "\n",
      "\u4f7f\u7528PolynomiraFeatures \u4ea7\u751f\u7684\u5bf9\u8c61\n",
      "\n",
      "fit_transform\u4e0etransform\u7684\u533a\u522b \n",
      "fit_transform\u4f1a\u6539\u53d8\u53d8\u6362\u77e9\u9635 \u800ctransform\u7528\u5df2\u7ecffit\u597d\u7684\u77e9\u9635\u91cd\u65b0\u8fdb\u884cfit\n"
     ]
    },
    {
     "cell_type": "code",
     "collapsed": false,
     "input": [
      "# \u5148\u751f\u6210\u4e00\u4e2a\u4e8c\u6b21\u53d8\u6362\u77e9\u9635\uff0c\u7528\u6765\u5bf9\u5750\u6807\u8fdb\u884c\u53d8\u6362\n",
      "quadratic_feature = PolynomialFeatures(degree=2)\n",
      "\n",
      "## \u4e0b\u9762\u8fdb\u884c\u5750\u6807\u53d8\u6362 \n",
      "quadra_xtrain = quadratic_feature.fit_transform(X_train)\n",
      "\n",
      "quadRegress = LinearRegression()\n",
      "quadRegress.fit(quadra_xtrain,y_train)\n",
      "\n",
      "quadra_xx = quadratic_feature.transform(xx.reshape(xx.shape[0],1))\n",
      "yy_quad = quadRegress.predict(quadra_xx)\n",
      "\n",
      "\n",
      "# \u4e0b\u9762\u751f\u6210\u4e00\u4e2a\u4e09\u6b21\u53d8\u6362\u77e9\u9635\uff0c\u7528\u4e8e\u5bf9\u5750\u6807\u8fdb\u884c\u53d8\u6362 \n",
      "tri_feature = PolynomialFeatures(degree=3)\n",
      "## \u8fdb\u884c\u5750\u6807\u53d8\u6362 \n",
      "tri_xtrain = tri_feature.fit_transform(X_train)\n",
      "tri_regress = LinearRegression()\n",
      "tri_regress.fit(tri_xtrain,y_train)\n",
      "\n",
      "yy_tri = tri_regress.predict(tri_feature.transform(xx.reshape(xx.shape[0],1)) )\n",
      "\n",
      "\n",
      "plt.plot(X_train,y_train,'b*')\n",
      "plt.plot(xx,yy,'b-')\n",
      "plt.plot(xx,yy_quad,'g-')\n",
      "plt.plot(xx,yy_tri,'r-')\n",
      "\n"
     ],
     "language": "python",
     "metadata": {},
     "outputs": [
      {
       "metadata": {},
       "output_type": "pyout",
       "prompt_number": 268,
       "text": [
        "[<matplotlib.lines.Line2D at 0x7f08ab00ba90>]"
       ]
      },
      {
       "metadata": {},
       "output_type": "display_data",
       "png": "[encoded data removed]",
       "text": [
        "<matplotlib.figure.Figure at 0x7f08ae48f850>"
       ]
      }
     ],
     "prompt_number": 268
    },
    {
     "cell_type": "markdown",
     "metadata": {},
     "source": [
      "## fitting\u7a0b\u5ea6\n",
      "\n",
      "\u4e0b\u9762\u6bd4\u8f831\u6b21\u7ebf\u6027\u56de\u5f52\u548c2\u6b21/3\u6b21\u975e\u7ebf\u6027\u56de\u5f52\u7684fitting\u7a0b\u5ea6\n",
      "\n",
      "\u53d1\u73b02\u6b21\u662f\u6700\u5408\u9002\u5230\uff0c1\u6b21underfitting 3\u6b21overfitting"
     ]
    },
    {
     "cell_type": "code",
     "collapsed": false,
     "input": [
      "score1 = linRegress.score(X_test,y_test)\n",
      "\n",
      "\n",
      "score2 = quadRegress.score(quadratic_feature.transform(X_test),y_test)\n",
      "\n",
      "score3 = tri_regress.score(tri_feature.transform(X_test),y_test)\n",
      "'score1', score1,'score2' ,score2,'score3',score3"
     ],
     "language": "python",
     "metadata": {},
     "outputs": [
      {
       "metadata": {},
       "output_type": "pyout",
       "prompt_number": 145,
       "text": [
        "('score1',\n",
        " 0.80972679770766498,\n",
        " 'score2',\n",
        " 0.86754436563450543,\n",
        " 'score3',\n",
        " 0.83569241560379559)"
       ]
      }
     ],
     "prompt_number": 145
    },
    {
     "cell_type": "markdown",
     "metadata": {},
     "source": [
      "# \u7ebf\u6027\u56de\u5f52\u5e94\u7528\u6848\u4f8b \n",
      "\n",
      "---\n",
      "\n",
      "# pandas \u6570\u636e\u7edf\u8ba1\n",
      "\n",
      "[UCI\u673a\u5668\u5b66\u4e60\u9879\u76ee\u4f17\u591a\u7684\u6570\u636e\u5e93](http://archive.ics.uci.edu/ml/)\n",
      "\n",
      "read_csv \u6211\u4eec\u8bfb\u53d6.csv \u6587\u4ef6\u751f\u6210dataframe\n",
      "\n",
      "\u901a\u8fc7 head() \u67e5\u770b\u524d\u9762\u51e0\u9879\n",
      "\n",
      "\u6211\u4eec\u901a\u8fc7Dataframe.describe() \u65b9\u6cd5\u83b7\u5f97\u4e86\u4e00\u5806\u63cf\u8ff0\u6027\u7edf\u8ba1\u7ed3\u679c\n",
      "\n",
      "\u901a\u8fc7Dataframe.corr() \u8ba1\u7b97\u4e24\u4e24\u7684\u5173\u8054\u77e9\u9635(correlation matrix)\n",
      "[Python\u6570\u636e\u5206\u6790\u5305\uff1apandas\u57fa\u7840](http://www.open-open.com/lib/view/open1402477162868.html)\n"
     ]
    },
    {
     "cell_type": "code",
     "collapsed": false,
     "input": [
      "# \u4e0b\u9762\u6d4b\u8bd5\u4f7f\u7528pandas \n",
      "import pandas as pd\n",
      "# \u8bfb\u53d6csv\u6587\u4ef6\n",
      "df = pd.read_csv('winequality-red.csv',sep=';')\n",
      "\n",
      "# \u663e\u793a\u524d\u9762\u51e0\u884c\n",
      "df.head(8)\n",
      "# df.tail(3) # \u663e\u793a\u5c3e\u90e8\u4e09\u5217\u6570\u636e"
     ],
     "language": "python",
     "metadata": {},
     "outputs": [
      {
       "html": [
        "<div style=\"max-width:1500px;overflow:auto;\">\n",
        "<table border=\"1\" class=\"dataframe\">\n",
        "  <thead>\n",
        "    <tr style=\"text-align: right;\">\n",
        "      <th></th>\n",
        "      <th>fixed acidity</th>\n",
        "      <th>volatile acidity</th>\n",
        "      <th>citric acid</th>\n",
        "      <th>residual sugar</th>\n",
        "      <th>chlorides</th>\n",
        "      <th>free sulfur dioxide</th>\n",
        "      <th>total sulfur dioxide</th>\n",
        "      <th>density</th>\n",
        "      <th>pH</th>\n",
        "      <th>sulphates</th>\n",
        "      <th>alcohol</th>\n",
        "      <th>quality</th>\n",
        "    </tr>\n",
        "  </thead>\n",
        "  <tbody>\n",
        "    <tr>\n",
        "      <th>0</th>\n",
        "      <td>7.4</td>\n",
        "      <td>0.70</td>\n",
        "      <td>0.00</td>\n",
        "      <td>1.9</td>\n",
        "      <td>0.076</td>\n",
        "      <td>11.0</td>\n",
        "      <td>34.0</td>\n",
        "      <td>0.9978</td>\n",
        "      <td>3.51</td>\n",
        "      <td>0.56</td>\n",
        "      <td>9.4</td>\n",
        "      <td>5</td>\n",
        "    </tr>\n",
        "    <tr>\n",
        "      <th>1</th>\n",
        "      <td>7.8</td>\n",
        "      <td>0.88</td>\n",
        "      <td>0.00</td>\n",
        "      <td>2.6</td>\n",
        "      <td>0.098</td>\n",
        "      <td>25.0</td>\n",
        "      <td>67.0</td>\n",
        "      <td>0.9968</td>\n",
        "      <td>3.20</td>\n",
        "      <td>0.68</td>\n",
        "      <td>9.8</td>\n",
        "      <td>5</td>\n",
        "    </tr>\n",
        "    <tr>\n",
        "      <th>2</th>\n",
        "      <td>7.8</td>\n",
        "      <td>0.76</td>\n",
        "      <td>0.04</td>\n",
        "      <td>2.3</td>\n",
        "      <td>0.092</td>\n",
        "      <td>15.0</td>\n",
        "      <td>54.0</td>\n",
        "      <td>0.9970</td>\n",
        "      <td>3.26</td>\n",
        "      <td>0.65</td>\n",
        "      <td>9.8</td>\n",
        "      <td>5</td>\n",
        "    </tr>\n",
        "    <tr>\n",
        "      <th>3</th>\n",
        "      <td>11.2</td>\n",
        "      <td>0.28</td>\n",
        "      <td>0.56</td>\n",
        "      <td>1.9</td>\n",
        "      <td>0.075</td>\n",
        "      <td>17.0</td>\n",
        "      <td>60.0</td>\n",
        "      <td>0.9980</td>\n",
        "      <td>3.16</td>\n",
        "      <td>0.58</td>\n",
        "      <td>9.8</td>\n",
        "      <td>6</td>\n",
        "    </tr>\n",
        "    <tr>\n",
        "      <th>4</th>\n",
        "      <td>7.4</td>\n",
        "      <td>0.70</td>\n",
        "      <td>0.00</td>\n",
        "      <td>1.9</td>\n",
        "      <td>0.076</td>\n",
        "      <td>11.0</td>\n",
        "      <td>34.0</td>\n",
        "      <td>0.9978</td>\n",
        "      <td>3.51</td>\n",
        "      <td>0.56</td>\n",
        "      <td>9.4</td>\n",
        "      <td>5</td>\n",
        "    </tr>\n",
        "    <tr>\n",
        "      <th>5</th>\n",
        "      <td>7.4</td>\n",
        "      <td>0.66</td>\n",
        "      <td>0.00</td>\n",
        "      <td>1.8</td>\n",
        "      <td>0.075</td>\n",
        "      <td>13.0</td>\n",
        "      <td>40.0</td>\n",
        "      <td>0.9978</td>\n",
        "      <td>3.51</td>\n",
        "      <td>0.56</td>\n",
        "      <td>9.4</td>\n",
        "      <td>5</td>\n",
        "    </tr>\n",
        "    <tr>\n",
        "      <th>6</th>\n",
        "      <td>7.9</td>\n",
        "      <td>0.60</td>\n",
        "      <td>0.06</td>\n",
        "      <td>1.6</td>\n",
        "      <td>0.069</td>\n",
        "      <td>15.0</td>\n",
        "      <td>59.0</td>\n",
        "      <td>0.9964</td>\n",
        "      <td>3.30</td>\n",
        "      <td>0.46</td>\n",
        "      <td>9.4</td>\n",
        "      <td>5</td>\n",
        "    </tr>\n",
        "    <tr>\n",
        "      <th>7</th>\n",
        "      <td>7.3</td>\n",
        "      <td>0.65</td>\n",
        "      <td>0.00</td>\n",
        "      <td>1.2</td>\n",
        "      <td>0.065</td>\n",
        "      <td>15.0</td>\n",
        "      <td>21.0</td>\n",
        "      <td>0.9946</td>\n",
        "      <td>3.39</td>\n",
        "      <td>0.47</td>\n",
        "      <td>10.0</td>\n",
        "      <td>7</td>\n",
        "    </tr>\n",
        "  </tbody>\n",
        "</table>\n",
        "</div>"
       ],
       "metadata": {},
       "output_type": "pyout",
       "prompt_number": 168,
       "text": [
        "   fixed acidity  volatile acidity  citric acid  residual sugar  chlorides  \\\n",
        "0            7.4              0.70         0.00             1.9      0.076   \n",
        "1            7.8              0.88         0.00             2.6      0.098   \n",
        "2            7.8              0.76         0.04             2.3      0.092   \n",
        "3           11.2              0.28         0.56             1.9      0.075   \n",
        "4            7.4              0.70         0.00             1.9      0.076   \n",
        "5            7.4              0.66         0.00             1.8      0.075   \n",
        "6            7.9              0.60         0.06             1.6      0.069   \n",
        "7            7.3              0.65         0.00             1.2      0.065   \n",
        "\n",
        "   free sulfur dioxide  total sulfur dioxide  density    pH  sulphates  \\\n",
        "0                 11.0                  34.0   0.9978  3.51       0.56   \n",
        "1                 25.0                  67.0   0.9968  3.20       0.68   \n",
        "2                 15.0                  54.0   0.9970  3.26       0.65   \n",
        "3                 17.0                  60.0   0.9980  3.16       0.58   \n",
        "4                 11.0                  34.0   0.9978  3.51       0.56   \n",
        "5                 13.0                  40.0   0.9978  3.51       0.56   \n",
        "6                 15.0                  59.0   0.9964  3.30       0.46   \n",
        "7                 15.0                  21.0   0.9946  3.39       0.47   \n",
        "\n",
        "   alcohol  quality  \n",
        "0      9.4        5  \n",
        "1      9.8        5  \n",
        "2      9.8        5  \n",
        "3      9.8        6  \n",
        "4      9.4        5  \n",
        "5      9.4        5  \n",
        "6      9.4        5  \n",
        "7     10.0        7  "
       ]
      }
     ],
     "prompt_number": 168
    },
    {
     "cell_type": "code",
     "collapsed": false,
     "input": [
      "df.describe()"
     ],
     "language": "python",
     "metadata": {},
     "outputs": [
      {
       "html": [
        "<div style=\"max-width:1500px;overflow:auto;\">\n",
        "<table border=\"1\" class=\"dataframe\">\n",
        "  <thead>\n",
        "    <tr style=\"text-align: right;\">\n",
        "      <th></th>\n",
        "      <th>fixed acidity</th>\n",
        "      <th>volatile acidity</th>\n",
        "      <th>citric acid</th>\n",
        "      <th>residual sugar</th>\n",
        "      <th>chlorides</th>\n",
        "      <th>free sulfur dioxide</th>\n",
        "      <th>total sulfur dioxide</th>\n",
        "      <th>density</th>\n",
        "      <th>pH</th>\n",
        "      <th>sulphates</th>\n",
        "      <th>alcohol</th>\n",
        "      <th>quality</th>\n",
        "    </tr>\n",
        "  </thead>\n",
        "  <tbody>\n",
        "    <tr>\n",
        "      <th>count</th>\n",
        "      <td>1599.000000</td>\n",
        "      <td>1599.000000</td>\n",
        "      <td>1599.000000</td>\n",
        "      <td>1599.000000</td>\n",
        "      <td>1599.000000</td>\n",
        "      <td>1599.000000</td>\n",
        "      <td>1599.000000</td>\n",
        "      <td>1599.000000</td>\n",
        "      <td>1599.000000</td>\n",
        "      <td>1599.000000</td>\n",
        "      <td>1599.000000</td>\n",
        "      <td>1599.000000</td>\n",
        "    </tr>\n",
        "    <tr>\n",
        "      <th>mean</th>\n",
        "      <td>8.319637</td>\n",
        "      <td>0.527821</td>\n",
        "      <td>0.270976</td>\n",
        "      <td>2.538806</td>\n",
        "      <td>0.087467</td>\n",
        "      <td>15.874922</td>\n",
        "      <td>46.467792</td>\n",
        "      <td>0.996747</td>\n",
        "      <td>3.311113</td>\n",
        "      <td>0.658149</td>\n",
        "      <td>10.422983</td>\n",
        "      <td>5.636023</td>\n",
        "    </tr>\n",
        "    <tr>\n",
        "      <th>std</th>\n",
        "      <td>1.741096</td>\n",
        "      <td>0.179060</td>\n",
        "      <td>0.194801</td>\n",
        "      <td>1.409928</td>\n",
        "      <td>0.047065</td>\n",
        "      <td>10.460157</td>\n",
        "      <td>32.895324</td>\n",
        "      <td>0.001887</td>\n",
        "      <td>0.154386</td>\n",
        "      <td>0.169507</td>\n",
        "      <td>1.065668</td>\n",
        "      <td>0.807569</td>\n",
        "    </tr>\n",
        "    <tr>\n",
        "      <th>min</th>\n",
        "      <td>4.600000</td>\n",
        "      <td>0.120000</td>\n",
        "      <td>0.000000</td>\n",
        "      <td>0.900000</td>\n",
        "      <td>0.012000</td>\n",
        "      <td>1.000000</td>\n",
        "      <td>6.000000</td>\n",
        "      <td>0.990070</td>\n",
        "      <td>2.740000</td>\n",
        "      <td>0.330000</td>\n",
        "      <td>8.400000</td>\n",
        "      <td>3.000000</td>\n",
        "    </tr>\n",
        "    <tr>\n",
        "      <th>25%</th>\n",
        "      <td>7.100000</td>\n",
        "      <td>0.390000</td>\n",
        "      <td>0.090000</td>\n",
        "      <td>1.900000</td>\n",
        "      <td>0.070000</td>\n",
        "      <td>7.000000</td>\n",
        "      <td>22.000000</td>\n",
        "      <td>0.995600</td>\n",
        "      <td>3.210000</td>\n",
        "      <td>0.550000</td>\n",
        "      <td>9.500000</td>\n",
        "      <td>5.000000</td>\n",
        "    </tr>\n",
        "    <tr>\n",
        "      <th>50%</th>\n",
        "      <td>7.900000</td>\n",
        "      <td>0.520000</td>\n",
        "      <td>0.260000</td>\n",
        "      <td>2.200000</td>\n",
        "      <td>0.079000</td>\n",
        "      <td>14.000000</td>\n",
        "      <td>38.000000</td>\n",
        "      <td>0.996750</td>\n",
        "      <td>3.310000</td>\n",
        "      <td>0.620000</td>\n",
        "      <td>10.200000</td>\n",
        "      <td>6.000000</td>\n",
        "    </tr>\n",
        "    <tr>\n",
        "      <th>75%</th>\n",
        "      <td>9.200000</td>\n",
        "      <td>0.640000</td>\n",
        "      <td>0.420000</td>\n",
        "      <td>2.600000</td>\n",
        "      <td>0.090000</td>\n",
        "      <td>21.000000</td>\n",
        "      <td>62.000000</td>\n",
        "      <td>0.997835</td>\n",
        "      <td>3.400000</td>\n",
        "      <td>0.730000</td>\n",
        "      <td>11.100000</td>\n",
        "      <td>6.000000</td>\n",
        "    </tr>\n",
        "    <tr>\n",
        "      <th>max</th>\n",
        "      <td>15.900000</td>\n",
        "      <td>1.580000</td>\n",
        "      <td>1.000000</td>\n",
        "      <td>15.500000</td>\n",
        "      <td>0.611000</td>\n",
        "      <td>72.000000</td>\n",
        "      <td>289.000000</td>\n",
        "      <td>1.003690</td>\n",
        "      <td>4.010000</td>\n",
        "      <td>2.000000</td>\n",
        "      <td>14.900000</td>\n",
        "      <td>8.000000</td>\n",
        "    </tr>\n",
        "  </tbody>\n",
        "</table>\n",
        "</div>"
       ],
       "metadata": {},
       "output_type": "pyout",
       "prompt_number": 167,
       "text": [
        "       fixed acidity  volatile acidity  citric acid  residual sugar  \\\n",
        "count    1599.000000       1599.000000  1599.000000     1599.000000   \n",
        "mean        8.319637          0.527821     0.270976        2.538806   \n",
        "std         1.741096          0.179060     0.194801        1.409928   \n",
        "min         4.600000          0.120000     0.000000        0.900000   \n",
        "25%         7.100000          0.390000     0.090000        1.900000   \n",
        "50%         7.900000          0.520000     0.260000        2.200000   \n",
        "75%         9.200000          0.640000     0.420000        2.600000   \n",
        "max        15.900000          1.580000     1.000000       15.500000   \n",
        "\n",
        "         chlorides  free sulfur dioxide  total sulfur dioxide      density  \\\n",
        "count  1599.000000          1599.000000           1599.000000  1599.000000   \n",
        "mean      0.087467            15.874922             46.467792     0.996747   \n",
        "std       0.047065            10.460157             32.895324     0.001887   \n",
        "min       0.012000             1.000000              6.000000     0.990070   \n",
        "25%       0.070000             7.000000             22.000000     0.995600   \n",
        "50%       0.079000            14.000000             38.000000     0.996750   \n",
        "75%       0.090000            21.000000             62.000000     0.997835   \n",
        "max       0.611000            72.000000            289.000000     1.003690   \n",
        "\n",
        "                pH    sulphates      alcohol      quality  \n",
        "count  1599.000000  1599.000000  1599.000000  1599.000000  \n",
        "mean      3.311113     0.658149    10.422983     5.636023  \n",
        "std       0.154386     0.169507     1.065668     0.807569  \n",
        "min       2.740000     0.330000     8.400000     3.000000  \n",
        "25%       3.210000     0.550000     9.500000     5.000000  \n",
        "50%       3.310000     0.620000    10.200000     6.000000  \n",
        "75%       3.400000     0.730000    11.100000     6.000000  \n",
        "max       4.010000     2.000000    14.900000     8.000000  "
       ]
      }
     ],
     "prompt_number": 167
    },
    {
     "cell_type": "code",
     "collapsed": false,
     "input": [
      "# \u5207\u7247\n",
      "df[['volatile acidity','quality']][6:18].T\n"
     ],
     "language": "python",
     "metadata": {},
     "outputs": [
      {
       "html": [
        "<div style=\"max-width:1500px;overflow:auto;\">\n",
        "<table border=\"1\" class=\"dataframe\">\n",
        "  <thead>\n",
        "    <tr style=\"text-align: right;\">\n",
        "      <th></th>\n",
        "      <th>6</th>\n",
        "      <th>7</th>\n",
        "      <th>8</th>\n",
        "      <th>9</th>\n",
        "      <th>10</th>\n",
        "      <th>11</th>\n",
        "      <th>12</th>\n",
        "      <th>13</th>\n",
        "      <th>14</th>\n",
        "      <th>15</th>\n",
        "      <th>16</th>\n",
        "      <th>17</th>\n",
        "    </tr>\n",
        "  </thead>\n",
        "  <tbody>\n",
        "    <tr>\n",
        "      <th>volatile acidity</th>\n",
        "      <td>0.6</td>\n",
        "      <td>0.65</td>\n",
        "      <td>0.58</td>\n",
        "      <td>0.5</td>\n",
        "      <td>0.58</td>\n",
        "      <td>0.5</td>\n",
        "      <td>0.615</td>\n",
        "      <td>0.61</td>\n",
        "      <td>0.62</td>\n",
        "      <td>0.62</td>\n",
        "      <td>0.28</td>\n",
        "      <td>0.56</td>\n",
        "    </tr>\n",
        "    <tr>\n",
        "      <th>quality</th>\n",
        "      <td>5.0</td>\n",
        "      <td>7.00</td>\n",
        "      <td>7.00</td>\n",
        "      <td>5.0</td>\n",
        "      <td>5.00</td>\n",
        "      <td>5.0</td>\n",
        "      <td>5.000</td>\n",
        "      <td>5.00</td>\n",
        "      <td>5.00</td>\n",
        "      <td>5.00</td>\n",
        "      <td>7.00</td>\n",
        "      <td>5.00</td>\n",
        "    </tr>\n",
        "  </tbody>\n",
        "</table>\n",
        "</div>"
       ],
       "metadata": {},
       "output_type": "pyout",
       "prompt_number": 243,
       "text": [
        "                   6     7     8    9     10   11     12    13    14    15  \\\n",
        "volatile acidity  0.6  0.65  0.58  0.5  0.58  0.5  0.615  0.61  0.62  0.62   \n",
        "quality           5.0  7.00  7.00  5.0  5.00  5.0  5.000  5.00  5.00  5.00   \n",
        "\n",
        "                    16    17  \n",
        "volatile acidity  0.28  0.56  \n",
        "quality           7.00  5.00  "
       ]
      }
     ],
     "prompt_number": 243
    },
    {
     "cell_type": "markdown",
     "metadata": {},
     "source": [
      "## \u6570\u636e\u76f8\u5173\u6027\u5206\u6790 \n",
      "\n",
      "\u6211\u4eec\u53ef\u4ee5\u901a\u8fc7\u6563\u70b9\u56fe\u8fdb\u884c\u6570\u636e\u7684\u76f8\u5173\u6027\u5206\u6790\uff0c\u4ece\u4e0b\u56fe\u53ef\u4ee5\u770b\u51fa\uff0c\u9152\u7684\u8d28\u91cf\u4e0evolatile acidity\u503c\u5176\u5b9e\u5927\u81f4\u662f\u8d1f\u76f8\u5173\u7684,\u800c\u4e0ealcohol\u662f\u4e89\u76f8\u7ba1\u7684\n",
      "\n",
      "\u8fd9\u4e9b\u56fe\u90fd\u53ef\u4ee5\u663e\u793a\u51fa\u54cd\u5e94\u53d8\u91cf\u4e0e\u89e3\u91ca\u53d8\u91cf\u7684\u76f8\u5173\u6027;\u8ba9\u6211\u4eec\u6784\u5efa\u4e00\u4e2a\u591a\u5143\u7ebf\u6027\u76f8\u5173\u6a21\u578b\u8868\u8ff0\u8fd9\u4e9b\u76f8\u5173\u8fd9\u4e9b\u56fe\u90fd\u53ef\u4ee5\u663e\u793a\u51fa\u54cd\u5e94\u53d8\u91cf\u4e0e\u89e3\u91ca\u53d8\u91cf\u7684\u76f8\u5173\u6027;\u8ba9\u6211\u4eec\u6784\u5efa\u4e00\u4e2a\u591a\u5143\u7ebf\u6027\u76f8\u5173\u6a21\u578b\u8868\u8ff0\u8fd9\u4e9b\u76f8\u5173\u6027\u3002\u5982\u4f55\u51b3\u5b9a\u54ea\u4e2a\u53d8\u91cf\u5e94\u8be5\u5728\u6a21\u578b\u4e2d?\u54ea\u4e2a\u53ef\u4ee5\u4e0d\u5728?\n",
      "\n",
      "\u901a\u8fc7**Dataframe.corr() \u8ba1\u7b97\u4e24\u4e24\u7684\u5173\u8054\u77e9\u9635(correlation matrix)**\u3002\u5173\u8054\u77e9\u9635\u8fdb\u4e00\u6b65\u786e\u8ba4\u4e86\u9152\u7cbe\u5ea6\u4e0e\u54c1\u8d28\u7684\u6b63\u76f8\u5173\u6027,\u6325\u53d1\u6027\u9178\u5ea6\u4e0e\u54c1\u8d28\u7684\u8d1f\u76f8\u5173\u6027\u3002\n",
      "\n",
      "\u6325\u53d1\u6027\u9178\u5ea6\u8d8a\u9ad8,\u9152\u559d\u7740\u5c31\u8d8a\u5411\u918b\u3002\u603b\u4e4b,\u6211\u4eec\u5c31\u5047\u8bbe\u597d\u9152\u5e94\u8be5\u5177\u6709\u9152\u7cbe\u5ea6\u9ad8\u3001\u6325\u53d1\u6027\u9178\u5ea6\u4f4e\u7684\u7279\u70b9,\u867d\u7136\u8fd9\u548c\u54c1\u9152\u5e08\u7684\u5473\u89c9\u53ef\u80fd\u4e0d\u592a\u4e00\u81f4\u3002"
     ]
    },
    {
     "cell_type": "code",
     "collapsed": false,
     "input": [
      "import matplotlib.pyplot as plt\n",
      "# \u7ed8\u5236\u6563\u70b9\u56fe\n",
      "plt.scatter(df['volatile acidity'],df['quality'])\n",
      "plt.xlabel('total sulfur dioxide')\n",
      "plt.ylabel('quality')\n",
      "plt.title('alcohol quality')\n",
      "plt.show()"
     ],
     "language": "python",
     "metadata": {},
     "outputs": [
      {
       "metadata": {},
       "output_type": "display_data",
       "png": "[encoded data removed]",
       "text": [
        "<matplotlib.figure.Figure at 0x7f08aafed310>"
       ]
      }
     ],
     "prompt_number": 242
    },
    {
     "cell_type": "code",
     "collapsed": false,
     "input": [
      "plt.scatter(df['alcohol'],df['quality'])\n",
      "plt.xlabel('alcohol')\n",
      "plt.ylabel('quality')\n",
      "plt.title('alcohol quality')\n",
      "plt.show()\n"
     ],
     "language": "python",
     "metadata": {},
     "outputs": [
      {
       "metadata": {},
       "output_type": "display_data",
       "png": "[encoded data removed]",
       "text": [
        "<matplotlib.figure.Figure at 0x7f08aafed510>"
       ]
      }
     ],
     "prompt_number": 244
    },
    {
     "cell_type": "code",
     "collapsed": false,
     "input": [
      "df[['alcohol','quality']].corr()"
     ],
     "language": "python",
     "metadata": {},
     "outputs": [
      {
       "html": [
        "<div style=\"max-width:1500px;overflow:auto;\">\n",
        "<table border=\"1\" class=\"dataframe\">\n",
        "  <thead>\n",
        "    <tr style=\"text-align: right;\">\n",
        "      <th></th>\n",
        "      <th>alcohol</th>\n",
        "      <th>quality</th>\n",
        "    </tr>\n",
        "  </thead>\n",
        "  <tbody>\n",
        "    <tr>\n",
        "      <th>alcohol</th>\n",
        "      <td>1.000000</td>\n",
        "      <td>0.476166</td>\n",
        "    </tr>\n",
        "    <tr>\n",
        "      <th>quality</th>\n",
        "      <td>0.476166</td>\n",
        "      <td>1.000000</td>\n",
        "    </tr>\n",
        "  </tbody>\n",
        "</table>\n",
        "</div>"
       ],
       "metadata": {},
       "output_type": "pyout",
       "prompt_number": 248,
       "text": [
        "          alcohol   quality\n",
        "alcohol  1.000000  0.476166\n",
        "quality  0.476166  1.000000"
       ]
      }
     ],
     "prompt_number": 248
    },
    {
     "cell_type": "code",
     "collapsed": false,
     "input": [
      "df[['volatile acidity','quality']].corr()"
     ],
     "language": "python",
     "metadata": {},
     "outputs": [
      {
       "html": [
        "<div style=\"max-width:1500px;overflow:auto;\">\n",
        "<table border=\"1\" class=\"dataframe\">\n",
        "  <thead>\n",
        "    <tr style=\"text-align: right;\">\n",
        "      <th></th>\n",
        "      <th>volatile acidity</th>\n",
        "      <th>quality</th>\n",
        "    </tr>\n",
        "  </thead>\n",
        "  <tbody>\n",
        "    <tr>\n",
        "      <th>volatile acidity</th>\n",
        "      <td>1.000000</td>\n",
        "      <td>-0.390558</td>\n",
        "    </tr>\n",
        "    <tr>\n",
        "      <th>quality</th>\n",
        "      <td>-0.390558</td>\n",
        "      <td>1.000000</td>\n",
        "    </tr>\n",
        "  </tbody>\n",
        "</table>\n",
        "</div>"
       ],
       "metadata": {},
       "output_type": "pyout",
       "prompt_number": 249,
       "text": [
        "                  volatile acidity   quality\n",
        "volatile acidity          1.000000 -0.390558\n",
        "quality                  -0.390558  1.000000"
       ]
      }
     ],
     "prompt_number": 249
    },
    {
     "cell_type": "markdown",
     "metadata": {},
     "source": [
      "## \u62df\u5408\u4e0e\u8bc4\u4f30\u6a21\u578b\n",
      "---\n",
      "\u6211\u4eec\u628a\u6570\u636e\u5206\u6210\u8bad\u7ec3\u96c6\u548c\u6d4b\u8bd5\u96c6,\u8bad\u7ec3\u56de\u5f52\u6a21\u578b\u7136\u540e\u8bc4\u4f30\u9884\u6d4b\u7ed3\u679c\n",
      "\n",
      "### \u666e\u901a\u9a8c\u8bc1\u6cd5\n",
      "\n",
      "\u968f\u673a\u7684\u628a\u6570\u636e\u5206\u5f00\uff0c\u6d4b\u51fa\u6765\u7684\u53ef\u80fd\u4e0d\u51c6"
     ]
    },
    {
     "cell_type": "code",
     "collapsed": false,
     "input": [
      "import pandas as pd\n",
      "from sklearn.linear_model import LinearRegression\n",
      "from sklearn.cross_validation import train_test_split # \u4ea4\u53c9\u9a8c\u8bc1\u6a21\u5757\u91cc\u9762\u7684\u6570\u636e\u5206\u5272 \n",
      "\n",
      "df = pd.read_csv('winequality-red.csv',sep=';')\n",
      "x = df[list(df.columns)[:-1]] # \u53d6\u51fa\u9664\u4e86\u6700\u540e\u4e00\u5217\u5916\u7684\u5217\u5207\u7247\n",
      "y = df['quality']\n",
      "# \u4e0b\u9762\u5f00\u59cb\u624b\u52a8\u5212\u5206\u8bad\u7ec3\u6837\u672c\u548c\u6d4b\u8bd5\u6837\u672c\n",
      "xtrain,xtest,ytrain,ytest = train_test_split(x,y)\n",
      "\n",
      "linregress = LinearRegression()\n",
      "linregress.fit(xtrain,ytrain)\n",
      "\n",
      "ytestPredict = linregress.predict(xtest)\n",
      "\n",
      "# \u8ba1\u7b97\u6d4b\u8bd5R\u65b9\n",
      "linregress.score(xtest,ytest)\n"
     ],
     "language": "python",
     "metadata": {},
     "outputs": [
      {
       "metadata": {},
       "output_type": "pyout",
       "prompt_number": 257,
       "text": [
        "0.35826057777173936"
       ]
      }
     ],
     "prompt_number": 257
    },
    {
     "cell_type": "markdown",
     "metadata": {},
     "source": [
      "### \u4ea4\u53c9\u9a8c\u8bc1\u6cd5\n",
      "sklearn \u652f\u6301\u4ea4\u53c9\u9a8c\u8bc1,cross_val_score\n",
      "\n",
      "\u4e0b\u9762\u628a\u6574\u4e2a\u6570\u636e\u5206\u62105\u4efd\uff0c\u8f6e\u6d41\u6700\u4e3a\u9a8c\u8bc1\u96c6\u5408"
     ]
    },
    {
     "cell_type": "code",
     "collapsed": false,
     "input": [
      "from sklearn.cross_validation import cross_val_score\n",
      "cross_val_score(linregress,x,y,cv=5)\n"
     ],
     "language": "python",
     "metadata": {},
     "outputs": [
      {
       "metadata": {},
       "output_type": "pyout",
       "prompt_number": 255,
       "text": [
        "array([ 0.13200871,  0.31858135,  0.34955348,  0.369145  ,  0.2809196 ])"
       ]
      }
     ],
     "prompt_number": 255
    },
    {
     "cell_type": "markdown",
     "metadata": {},
     "source": [
      "\u4ece\u6570\u636e\u4e0a\u53ef\u4ee5\u770b\u51fa\u8fd9\u4e2a\u7ebf\u6027\u6a21\u578b\u5e76\u4e0d\u51c6\uff0c\u56e0\u4e3a\u6211\u4eec\u6ca1\u6709\u5bf9\u7279\u5f81\u8fdb\u884c\u5904\u7406\uff0c\u540c\u65f6\u7528\u7684\u4e5f\u53ea\u662f\u7ebf\u6027\u7684\u6a21\u578b\uff0c\u4e5f\u53ef\u4ee5\u4ece\u4e0b\u9762\u7684\u6563\u5217\u56fe\u770b\u51fa\u6765"
     ]
    },
    {
     "cell_type": "code",
     "collapsed": false,
     "input": [
      "plt.scatter(ytest,ytestPredict)\n",
      "plt.xlabel('ytest')\n",
      "plt.ylabel('ypredict')\n",
      "plt.show()"
     ],
     "language": "python",
     "metadata": {},
     "outputs": [
      {
       "metadata": {},
       "output_type": "display_data",
       "png": "[encoded data removed]",
       "text": [
        "<matplotlib.figure.Figure at 0x7f08aaf275d0>"
       ]
      }
     ],
     "prompt_number": 258
    },
    {
     "cell_type": "markdown",
     "metadata": {},
     "source": [
      "# \u68af\u5ea6\u4e0b\u964d\u6cd5\u62df\u5408\u6a21\u578b\n",
      "\n",
      "\u6709\u4e24\u79cd\u68af\u5ea6\u4e0b\u964d\u6cd5\u3002\u6279\u91cf\u68af\u5ea6\u4e0b\u964d\n",
      "(Batch gradient descent)\u6bcf\u6b21\u8fed\u4ee3\u90fd\u7528\u6240\u6709\u8bad\u7ec3\u6837\u672c\u3002\u968f\u673a\u68af\u5ea6\u4e0b\u964d(Stochastic gradient\n",
      "descent,SGD)\u6bcf\u6b21\u8fed\u4ee3\u90fd\u7528\u4e00\u4e2a\u8bad\u7ec3\u6837\u672c,\u8fd9\u4e2a\u8bad\u7ec3\u6837\u672c\u662f\u968f\u673a\u9009\u62e9\u7684\u3002\u5f53\u8bad\u7ec3\u6837\u672c\u8f83\u591a\u7684\u65f6\n",
      "\u5019,\u968f\u673a\u68af\u5ea6\u4e0b\u964d\u6cd5\u6bd4\u6279\u91cf\u68af\u5ea6\u4e0b\u964d\u6cd5\u66f4\u5feb\u627e\u5230\u6700\u4f18\u53c2\u6570\u3002\n",
      "\n",
      "\u6211\u4eec\u7528scikit-learn\u7684SGDRegressor \u7c7b\u6765\u8ba1\u7b97\u6a21\u578b\u53c2\u6570\u3002\u5b83\u53ef\u4ee5\u901a\u8fc7\u4f18\u5316\u4e0d\u540c\u7684\u6210\u672c\u51fd\u6570\u6765\u62df\u5408\n",
      "\u7ebf\u6027\u6a21\u578b,\u9ed8\u8ba4\u6210\u672c\u51fd\u6570\u4e3a\u6b8b\u5dee\u5e73\u65b9\u548c\u3002\u7528\u7684\u662fsklearn\u91cc\u9762\u7684\u6ce2\u58eb\u987f\u623f\u4ef7\u6570\u636e\u96c6\n",
      "\n",
      "\u4e4b\u524d\u6211\u4eec\u5b66\u7684\u7279\u5f81\u53d8\u6362\u662f\u591a\u9879\u5f0f\u53d8\u6362\uff0c\u8fd9\u91cc\u6211\u4eec\u7528\u7684\u662f\u5f52\u4e00\u5316\u53d8\u6362\uff0c\u5b83\u4eec\u90fd\u662fpreprocessing\u91cc\u9762\u7684\u51fd\u6570"
     ]
    },
    {
     "cell_type": "code",
     "collapsed": false,
     "input": [
      "import numpy as np\n",
      "from sklearn.datasets import load_boston  # \u52a0\u8f7d\u6ce2\u58eb\u987f\u623f\u4ef7\u6570\u636e\u5e93\n",
      "from sklearn.cross_validation import train_test_split # \u5bf9\u6570\u636e\u6309\u7167\u8bad\u7ec3\u96c6\u548c\u6d4b\u8bd5\u96c6\u5206\u5757\n",
      "from sklearn.cross_validation import cross_val_score  # \u8fdb\u884c\u4ea4\u53c9\u9a8c\u8bc1\n",
      "from sklearn.preprocessing import StandardScaler      # \u4ece\u6570\u636e\u9884\u5904\u7406\u6a21\u5757\u91cc\u9762\u5f15\u5165\u6570\u636e\u5f52\u4e00\u5316\n",
      "\n",
      "# \u52a0\u8f7d\u6570\u636e \n",
      "house = load_boston()\n",
      "xtrain,xtest,ytrain,ytest = train_test_split(house.data,house.target)\n",
      "\n",
      "# \u5f52\u4e00\u5316\u81ea\u53d8\u91cf\n",
      "x_scaler = StandardScaler()\n",
      "y_scaler = StandardScaler()\n",
      "\n",
      "# \u8fdb\u884c\u6570\u636e\u53d8\u6362 \u9884\u5904\u7406 \n",
      "xtrain = x_scaler.fit_transform(xtrain)\n",
      "ytrain = y_scaler.fit_transform(ytrain)\n",
      "\n",
      "xtest = x_scaler.transform(xtest)\n",
      "ytest = y_scaler.transform(ytest)\n",
      "\n",
      "# \u4e0b\u9762\u7528 \u68af\u5ea6\u4e0b\u964d\u6cd5\u8bad\u7ec3\u6a21\u578b \u4f7f\u7528\u7684\u662f\u5e73\u65b9\u8bef\u5dee \u7ebf\u6027\u6a21\u578b\u54e6 \n",
      "\n",
      "from sklearn.linear_model import SGDRegressor\n",
      "sgdgress = SGDRegressor(loss = 'squared_loss')\n",
      "\n",
      "scores = cross_val_score(sgdgress,xtrain,ytrain,cv=5)\n",
      "sgdgress.fit(xtrain,ytrain)\n",
      "testScore = sgdgress.score(xtest,ytest)\n",
      "# R\u65b9\n",
      "'cross mean score',np.mean(scores),'testscore:',testScore\n"
     ],
     "language": "python",
     "metadata": {},
     "outputs": [
      {
       "metadata": {},
       "output_type": "pyout",
       "prompt_number": 277,
       "text": [
        "('cross mean score', 0.67118753118973218, 'testscore:', 0.79592597525994435)"
       ]
      }
     ],
     "prompt_number": 277
    },
    {
     "cell_type": "code",
     "collapsed": false,
     "input": [
      "from sklearn.cross_validation import cross_val_predict\n",
      "ytrainPredict = cross_val_predict(sgdgress,xtrain,ytrain,cv=5)\n",
      "\n",
      "fig, ax = plt.subplots()\n",
      "ax.scatter(ytrain,ytrainPredict)\n",
      "ax.plot([ytrain.min(),ytrain.max()],[ytrain.min(),ytrain.max()],'g-')"
     ],
     "language": "python",
     "metadata": {},
     "outputs": [
      {
       "metadata": {},
       "output_type": "pyout",
       "prompt_number": 284,
       "text": [
        "[<matplotlib.lines.Line2D at 0x7f08ab391f90>]"
       ]
      },
      {
       "metadata": {},
       "output_type": "display_data",
       "png": "[encoded data removed]",
       "text": [
        "<matplotlib.figure.Figure at 0x7f08ab3e0d50>"
       ]
      }
     ],
     "prompt_number": 284
    },
    {
     "cell_type": "code",
     "collapsed": false,
     "input": [],
     "language": "python",
     "metadata": {},
     "outputs": []
    }
   ],
   "metadata": {}
  }
 ]
}