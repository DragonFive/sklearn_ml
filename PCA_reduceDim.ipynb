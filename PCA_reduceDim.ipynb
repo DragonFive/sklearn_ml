{
 "metadata": {
  "name": "",
  "signature": "sha256:21af845adc7513143be28aa10e2835c2c586a076fca2779bc09fef9b68768c36"
 },
 "nbformat": 3,
 "nbformat_minor": 0,
 "worksheets": [
  {
   "cells": [
    {
     "cell_type": "markdown",
     "metadata": {},
     "source": [
      "# PCA\u964d\u7ef4\n",
      "\n",
      "\n",
      "\n",
      "\u964d\u7ef4\u81f4\u529b\u4e8e\u89e3\u51b3\u4e09\u7c7b\u95ee\u9898\u3002\n",
      "\n",
      "\u7b2c\u4e00\uff0c\u964d\u7ef4\u53ef\u4ee5\u7f13\u89e3\u7ef4\u5ea6\u707e\u96be\u95ee\u9898\u3002\n",
      "\n",
      "\u7b2c\u4e8c\uff0c\u964d\u7ef4\u53ef\u4ee5\u5728\u538b\u7f29\u6570\u636e\u7684\u540c\u65f6\u8ba9\u4fe1\u606f\u635f\u5931\u6700\u5c0f\u5316\u3002\n",
      "\n",
      "\u7b2c\u4e09\uff0c\u7406\u89e3\u51e0\u767e\u4e2a\u7ef4\u5ea6\u7684\u6570\u636e\u7ed3\u6784\u5f88\u56f0\u96be\uff0c\u4e24\u4e09\u4e2a\u7ef4\u5ea6\u7684\u6570\u636e\u901a\u8fc7\u53ef\u89c6\u5316\u66f4\u5bb9\u6613\u7406\u89e3\n",
      "\n",
      "\n",
      "## PCA\u7b80\u4ecb\n",
      "PCA\u53ef\u4ee5\u628a\u53ef\u80fd\u5177\u6709\u76f8\u5173\u6027\u7684\u9ad8\u7ef4\u53d8\u91cf\u5408\u6210\u7ebf\u6027\u65e0\u5173\u7684\u4f4e\u7ef4\u53d8\u91cf\uff0c\u79f0\u4e3a\u4e3b\u6210\u5206\u3002\n",
      "\n",
      "\u5f97\u77e5\u4e00\u4e2a\u7acb\u4f53\u56fe\u50cf\u7684\u5e73\u9762\u4e09\u89c6\u56fe\u4e2d\u7684\u82e5\u5e72\u4e2a\uff0c\u5c31\u53ef\u4ee5\u6062\u590d\u56fe\u50cf\u3002PCA\u7684\u8bbe\u8ba1\u601d\u8def\u4e0e\u6b64\u7c7b\u4f3c\u3002** PCA\u65cb\u8f6c\u6570\u636e\u96c6\u4e0e\u5176\u4e3b\u6210\u5206\u5bf9\u9f50\uff0c\u5c06\u6700\u591a\u7684\u53d8\u91cf\u4fdd\u7559\u5230\u7b2c\u4e00\u4e3b\u6210\u5206\u4e2d **\n",
      "\n",
      "\u5047\u8bbe\u6211\u4eec\u6709\u4e0b\u56fe\u6240\u793a\u7684\u6570\u636e\u96c6\uff1a\n"
     ]
    },
    {
     "cell_type": "code",
     "collapsed": false,
     "input": [
      "%matplotlib inline\n",
      "import matplotlib.pyplot as plt\n",
      "import numpy as np\n",
      "\n",
      "x=[0.2,0.3,0.4,0.4,0.5,0.6,0.6,0.6,0.6,0.7,0.7,0.8,0.8,0.9,1.0]\n",
      "y=[0.2,0.25,0.4,0.5,0.65,0.5,0.6,0.75,0.8,0.5,0.7,0.65,0.9,0.85,1.0]\n",
      "\n",
      "plt.plot(x,y,'b.')\n",
      "plt.plot([0.2,1.0],[0.2,1.0],'r-')\n",
      "plt.plot([0,0.4],[1.0,0],'g-')"
     ],
     "language": "python",
     "metadata": {},
     "outputs": [
      {
       "metadata": {},
       "output_type": "pyout",
       "prompt_number": 14,
       "text": [
        "[<matplotlib.lines.Line2D at 0x7fb47c99cb90>]"
       ]
      },
      {
       "metadata": {},
       "output_type": "display_data",
       "png": "[encoded data removed]",
       "text": [
        "<matplotlib.figure.Figure at 0x7fb47ca29390>"
       ]
      }
     ],
     "prompt_number": 14
    },
    {
     "cell_type": "markdown",
     "metadata": {},
     "source": [
      "\u56fe\u4e2d\u7684\u7ea2\u7ebf\u5c31\u662f\u7b2c\u4e00\u4e3b\u6210\u5206\u3002\u7b2c\u4e8c\u4e3b\u6210\u5206\u5fc5\u987b\u4e0e\u7b2c\u4e00\u4e3b\u6210\u5206\u6b63\u4ea4\uff0c\u4e5f\u5c31\u662f\u8bf4\u7b2c\u4e8c\u4e3b\u6210\u5206\u5fc5\u987b\u662f\u5728\u7edf\u8ba1\u5b66\u4e0a\u72ec\u7acb\u7684\uff0c\u4f1a\u51fa\u73b0\u5728\u4e0e\u7b2c\u4e00\u4e3b\u6210\u5206\u5782\u76f4\n",
      "\u7684\u65b9\u5411\u3002\n",
      "\n",
      "\u5f53\u6570\u636e\u96c6\u4e0d\u540c\u7ef4\u5ea6\u4e0a\u7684\u65b9\u5dee\u5206\u5e03\u4e0d\u5747\u5300\u7684\u65f6\u5019\uff0cPCA\u6700\u6709\u7528\u3002\u5982\u679c\u662f\u4e00\u4e2a\u7403\u58f3\u884c\u6570\u636e\u96c6\uff0cPCA\u4e0d\u80fd\u6709\u6548\u7684\u53d1\u6325\u4f5c\u7528\uff0c\u56e0\u4e3a\u5404\u4e2a\u65b9\u5411\u4e0a\u7684\u65b9\u5dee\u90fd\u76f8\u7b49\uff1b\u6ca1\u6709\u4e22\u5931\u5927\u91cf\u7684\u4fe1\u606f\u7ef4\u5ea6\u4e00\u4e2a\u90fd\u4e0d\u80fd\u5ffd\u7565\u3002\n",
      "\n",
      "\n",
      "---\n",
      "\n",
      "## PCA\u7684\u8ba1\u7b97\u6b65\u9aa4 \n",
      "\n",
      "### \u65b9\u5dee\uff0c\u534f\u65b9\u5dee\u548c\u534f\u65b9\u5dee\u77e9\u9635\n",
      "\n",
      "\u65b9\u5dee $ s^2 = \\frac{\\sum^n_{i=1}(X_i-x')^2  }{n-1} $\n",
      "\n",
      "\u534f\u65b9\u5dee\u5ea6\u91cf\u7684\u662f\u4e24\u4e2a\u53d8\u91cf\u4e4b\u95f4\u7ebf\u6027\u76f8\u5173\u6027\u7a0b\u5ea6\u3002\u82e5\u4e24\u4e2a\u53d8\u91cf\u534f\u65b9\u5dee\u4e3a0\uff0c\u5219\u4e24\u8005\u7ebf\u6027\u65e0\u5173\uff0c\u6ce8\u610f\u4e24\u4e2a\u65e0\u5173\u7684\u53d8\u91cf\u5e76\u975e\u5b8c\u5168\u72ec\u7acb\u3002$$ cov(X,Y) = \\frac{\\sum^n_{i=1}(x_i-x')(y_i-y')}{n-1} $$\n",
      "\n",
      "\u4e0b\u9762\u7528numpy \u8ba1\u7b97\u534f\u65b9\u5dee\u77e9\u9635\uff1a\n",
      "np.cov\u8ba1\u7b97\u6bcf\u4e2a\u884c\u5411\u91cf\u4e4b\u95f4\u7684\u534f\u65b9\u5dee"
     ]
    },
    {
     "cell_type": "code",
     "collapsed": false,
     "input": [
      "import numpy as np\n",
      "\n",
      "X = [[2,0,-1.4],\n",
      "     [2.2,0.2,-1.5],\n",
      "     [2.4,0.1,-1],\n",
      "     [1.9,0,-1.2]\n",
      "]\n",
      "\n",
      "#print np.array(X).T\n",
      "print(np.cov(np.array(X).T))# np.cov\u8ba1\u7b97\u6bcf\u4e2a\u884c\u5411\u91cf\u4e4b\u95f4\u7684\u534f\u65b9\u5dee"
     ],
     "language": "python",
     "metadata": {},
     "outputs": [
      {
       "output_type": "stream",
       "stream": "stdout",
       "text": [
        "[[ 0.04916667  0.01416667  0.01916667]\n",
        " [ 0.01416667  0.00916667 -0.00583333]\n",
        " [ 0.01916667 -0.00583333  0.04916667]]\n"
       ]
      }
     ],
     "prompt_number": 24
    },
    {
     "cell_type": "markdown",
     "metadata": {},
     "source": [
      "\u5982\u679c\u4e00\u4e2a\u77e9\u9635\uff08\u65b9\u9635\uff09\u6709\u7279\u5f81\u5411\u91cf\u548c\u7279\u5f81\u503c\uff0c\u90a3\u4e48\u5b83\u7684\u6bcf\u4e2a\u7ef4\u5ea6\u90fd\u6709\u4e00\u5bf9\u7279\u5f81\u5411\u91cf\u548c\u7279\u5f81\u503c\uff08\u77e9\u9635\u7684\u79e9\uff09\u3002\n",
      "\n",
      "\u77e9\u9635\u7684\u4e3b\u6210\u5206\u662f\u5176\u534f\u65b9\u5dee\u77e9\u9635\u7684\u7279\u5f81\u5411\u91cf\uff0c\u6309\u7167\u5bf9\u5e94\u7684\u7279\u5f81\u503c\u5927\u5c0f\u6392\u5e8f\u3002\u6700\u5927\u7684\u7279\u5f81\u503c\u5c31\u662f\u7b2c\u4e00\u4e3b\u6210\u5206\uff0c\u7b2c\u4e8c\u5927\u7684\u7279\u5f81\u503c\u5c31\u662f\u7b2c\u4e8c\u4e3b\u6210\u5206\u3002\n",
      "\n",
      "\u4e0b\u9762\u6211\u4eec\u7528numpy\u68c0\u9a8c\u6211\u4eec\u624b\u7b97\u7684\u7279\u5f81\u5411\u91cf\u3002eig\u51fd\u6570\u8fd4\u56de\u7279\u5f81\u503c\u548c\u7279\u5f81\u5411\u91cf\u7684\u5143\u7ec4\u3002"
     ]
    },
    {
     "cell_type": "code",
     "collapsed": false,
     "input": [
      "w,v = np.linalg.eig(np.array([[1,-2],[2,-3]]))\n",
      "\n",
      "#print('\u7279\u5f81\u503c:',w,'\\n\u7279\u5f81\u5411\u91cf:{}',v)\n",
      "\n",
      "print('\u7279\u5f81\u503c:{0}\\n\u7279\u5f81\u5411\u91cf:{1}'.format(w,v))"
     ],
     "language": "python",
     "metadata": {},
     "outputs": [
      {
       "output_type": "stream",
       "stream": "stdout",
       "text": [
        "\u7279\u5f81\u503c:[-0.99999998 -1.00000002]\n",
        "\u7279\u5f81\u5411\u91cf:[[ 0.70710678  0.70710678]\n",
        " [ 0.70710678  0.70710678]]\n"
       ]
      }
     ],
     "prompt_number": 33
    },
    {
     "cell_type": "markdown",
     "metadata": {},
     "source": [
      "### \u7528PCA\u964d\u7ef4\n",
      "\n",
      "PCA\u7b2c\u4e00\u6b65\u662f\u7528\u6bcf\u4e2a\u6837\u672c\u6570\u636e\u51cf\u53bb\u6837\u672c\u5747\u503c\u3002\u77e9\u9635\u7684\u4e3b\u6210\u5206\u662f\u5176\u534f\u65b9\u5dee\u77e9\u9635\u7684\u7279\u5f81\u5411\u91cf\uff0c\u6309\u7167\u5bf9\u5e94\u7684\u7279\u5f81\u503c\u5927\u5c0f\u6392\u5e8f\u3002\n",
      "\n",
      "\u4e3b\u6210\u5206\u53ef\u4ee5\u901a\u8fc7\u4e24\u79cd\u65b9\u6cd5\u8ba1\u7b97\u3002\n",
      "\n",
      "\u7b2c\u4e00\u79cd\u65b9\u6cd5\u662f\u8ba1\u7b97\u6570\u636e\u534f\u65b9\u5dee\u77e9\u9635\u3002\u56e0\u4e3a\u534f\u65b9\u5dee\u77e9\u9635\u662f\u65b9\u9635\uff0c\u6240\u6709\u6211\u4eec\u53ef\u4ee5\u7528\u524d\u9762\u7684\u65b9\u6cd5\u8ba1\u7b97\u7279\u5f81\u503c\u548c\u7279\u5f81\u5411\u91cf\u3002\n",
      "\n",
      "\u7b2c\u4e8c\u79cd\u65b9\u6cd5\u662f\u7528\u6570\u636e\u77e9\u9635\u7684\u5947\u5f02\u503c\u5206\u89e3\uff08singular value decomposition\uff09\u6765\u627e\u534f\u65b9\u5dee\u77e9\u9635\u7684\u7279\u5f81\u5411\u91cf\u548c\u7279\u5f81\u503c\u7684\u5e73\u65b9\u6839\u3002(sklearn\u7528\u7684\u662f\u8fd9\u79cd\u65b9\u6cd5)\n",
      "\n"
     ]
    },
    {
     "cell_type": "code",
     "collapsed": false,
     "input": [
      "import numpy as np\n",
      "\n",
      "X = [[0.9,2.4,1.2,0.5,0.3,1.8,0.5,0.3,2.5,1.3],\n",
      "     [1,  2.6,1.7,0.7,0.7,1.4,0.6,0.6,2.6,1.1]\n",
      "]\n",
      "\n",
      "# \u7b2c\u4e00\u6b65\uff0c\u5148\u51cf\u53bb\u6837\u672c\u5747\u503c\n",
      "X = np.array([item-np.mean(item)  for item in X])\n",
      "print X\n",
      "# \u8ba1\u7b97\u534f\u65b9\u5dee\u77e9\u9635 \n",
      "Xcov = np.cov(X)\n",
      "\n",
      "# \u6c42\u534f\u65b9\u5dee\u77e9\u9635\u7684\u7279\u5f81\u503c\u548c\u7279\u5f81\u5411\u91cf\n",
      "w,v = np.linalg.eig(Xcov)\n",
      "print('\u7279\u5f81\u503c{}\\n\u7279\u5f81\u5411\u91cf{}'.format(w,v))"
     ],
     "language": "python",
     "metadata": {},
     "outputs": [
      {
       "output_type": "stream",
       "stream": "stdout",
       "text": [
        "[[-0.27  1.23  0.03 -0.67 -0.87  0.63 -0.67 -0.87  1.33  0.13]\n",
        " [-0.3   1.3   0.4  -0.6  -0.6   0.1  -0.7  -0.7   1.3  -0.2 ]]\n",
        "\u7279\u5f81\u503c[ 1.25057433  0.03398123]\n",
        "\u7279\u5f81\u5411\u91cf[[ 0.73251454 -0.68075138]\n",
        " [ 0.68075138  0.73251454]]\n"
       ]
      }
     ],
     "prompt_number": 49
    },
    {
     "cell_type": "markdown",
     "metadata": {},
     "source": [
      "\u4e0b\u9762\u6211\u4eec\u628a\u6570\u636e\u6620\u5c04\u5230\u4e3b\u6210\u5206\u4e0a\u3002\u7b2c\u4e00\u4e3b\u6210\u5206\u662f\u6700\u5927\u7279\u5f81\u503c\u5bf9\u5e94\u7684\u7279\u5f81\u5411\u91cf\uff0c\u56e0\u6b64\u6211\u4eec\u8981\u5efa\u4e00\u4e2a\u8f6c\u6362\u77e9\u9635\uff0c\u5b83\u7684**\u6bcf\u4e00\u5217\u90fd\u662f\u4e3b\u6210\u5206\u7684\u7279\u5f81\u5411\u91cf(\u4e0d\u6b62\u7b2c\u4e00\u4e3b\u6210\u5206)**\u3002\u5982\u679c\u6211\u4eec\u8981\u628a5\u7ef4\u6570\u636e\u964d\u62103\u7ef4\uff0c\u90a3\u4e48\u6211\u4eec\u5c31\u8981\u7528\u4e00\u4e2a3\u7ef4\u77e9\u9635\u505a\u8f6c\u6362\u77e9\u9635\u3002\u5728\u672c\u4f8b\u4e2d\uff0c\u6211\u4eec\u5c06\u628a\u6211\u4eec\u7684\u4e8c\u7ef4\u6570\u636e\u6620\u5c04\u6210\u4e00\u7ef4\uff0c**\u56e0\u6b64\u6211\u4eec\u53ea\u9700\u8981\u7528\u7279\u5f81\u5411\u91cf\u4e2d\u7684\u7b2c\u4e00\u4e3b\u6210\u5206**\u3002\u6700\u540e\uff0c\u6211\u4eec\u7528\u6570\u636e**\u77e9\u9635\u70b9\u4e58\u8f6c\u6362\u77e9\u9635**\u3002\u4e0b\u9762\u5c31\u662f\u7b2c\u4e00\u4e3b\u6210\u5206\u6620\u5c04\u7684\u7ed3\u679c\uff1a"
     ]
    },
    {
     "cell_type": "code",
     "collapsed": false,
     "input": [
      "print np.dot(v.T[0],X)\n",
      "print np.dot(X.T,v.T[0].T)"
     ],
     "language": "python",
     "metadata": {},
     "outputs": [
      {
       "output_type": "stream",
       "stream": "stdout",
       "text": [
        "[-0.40200434  1.78596968  0.29427599 -0.89923557 -1.04573848  0.5295593\n",
        " -0.96731071 -1.11381362  1.85922114 -0.04092339]\n",
        "[-0.40200434  1.78596968  0.29427599 -0.89923557 -1.04573848  0.5295593\n",
        " -0.96731071 -1.11381362  1.85922114 -0.04092339]\n"
       ]
      }
     ],
     "prompt_number": 56
    },
    {
     "cell_type": "markdown",
     "metadata": {},
     "source": [
      "## \u7528PCA\u5b9e\u73b0\u9ad8\u7ef4\u6570\u636e\u53ef\u89c6\u5316\n",
      "\n"
     ]
    }
   ],
   "metadata": {}
  }
 ]
}