{
 "metadata": {
  "name": "",
  "signature": "sha256:2137ad3914dc189e17cf04b82ad03abdff537f513ff8529d6512632924bf98ea"
 },
 "nbformat": 3,
 "nbformat_minor": 0,
 "worksheets": [
  {
   "cells": [
    {
     "cell_type": "code",
     "collapsed": false,
     "input": [
      "# matplotlib\n",
      "\u7528matplotlib\u753b\u51fa\u6570\u636e\u66f2\u7ebf"
     ],
     "language": "python",
     "metadata": {},
     "outputs": []
    },
    {
     "cell_type": "code",
     "collapsed": false,
     "input": [
      "# \n",
      "%matplotlib inline\n",
      "# \u4e0b\u9762\u4f7f\u7528pyplot\u7684\u7528\u6cd5\n",
      "import matplotlib.pyplot as plt\n",
      "# \u4e0b\u9762\u8bbe\u7f6e\u5b57\u4f53\n",
      "# from matplotlib.font_manager import FontProperties\n",
      "# font = FontProperties(fname=r\"\")\n",
      "\n",
      "\n",
      "def runplt():\n",
      "    plt.figure()\n",
      "    plt.title('price and zhijing')\n",
      "    plt.xlabel('zhijing')\n",
      "    plt.ylabel('price')\n",
      "    # \u8bbe\u7f6ex\u8f74\u548cy\u8f74\u7684\u8303\u56f4\n",
      "    plt.axis([0,25,0,25])\n",
      "    # \u663e\u793a\u683c\u5b50\u7ebf\n",
      "    plt.grid(True)\n",
      "    return plt\n",
      "\n",
      "\n",
      "plt = runplt();\n",
      "X = [[6], [8], [10], [14], [18]]\n",
      "y = [[7], [9], [13], [17.5], [18]]\n",
      "plt.plot(X, y, 'k.')\n",
      "#plt.show()   "
     ],
     "language": "python",
     "metadata": {},
     "outputs": [
      {
       "metadata": {},
       "output_type": "pyout",
       "prompt_number": 21,
       "text": [
        "[<matplotlib.lines.Line2D at 0x7f08ba370d10>]"
       ]
      },
      {
       "metadata": {},
       "output_type": "display_data",
       "png": "[encoded data removed]",
       "text": [
        "<matplotlib.figure.Figure at 0x7f08ba370390>"
       ]
      }
     ],
     "prompt_number": 21
    },
    {
     "cell_type": "code",
     "collapsed": false,
     "input": [
      "import numpy as np\n",
      "np.shape(X)"
     ],
     "language": "python",
     "metadata": {},
     "outputs": [
      {
       "metadata": {},
       "output_type": "pyout",
       "prompt_number": 25,
       "text": [
        "(5, 1)"
       ]
      }
     ],
     "prompt_number": 25
    },
    {
     "cell_type": "markdown",
     "metadata": {},
     "source": [
      "# \u7ebf\u6027\u6a21\u578b\n",
      "---\n",
      "\u4f7f\u7528sklearn\u91cc\u9762\u5230\u7ebf\u6027\u56de\u5f52\u6a21\u578b \n",
      "\n",
      "** \u9700\u8981\u6ce8\u610f\u7684\u662f\u4e00\u5b9a\u8981\u4f20\u8fdb\u53bb\u7684\u662f\u5217\u5411\u91cf\u5440 **\n",
      "\n",
      "\u6d41\u7a0b\u4e00\u822c\u662f\u8fd9\u6837\u7684\n",
      "\n",
      ">1. \u83b7\u5f97\u6a21\u578b\n",
      ">2. \u7528\u6a21\u578b\u6765fit\u8bad\u7ec3\u6570\u636e\n",
      ">3. \u5bf9\u6d4b\u8bd5\u6570\u636e\u8fdb\u884c\u9884\u6d4b\n",
      "\n",
      "\n"
     ]
    },
    {
     "cell_type": "code",
     "collapsed": false,
     "input": [
      "# \u5bfc\u5165\u7ebf\u6027\u56de\u5f52\u6a21\u578b\n",
      "from sklearn.linear_model import LinearRegression\n",
      "\n",
      "# \u83b7\u5f97\u6a21\u578b\n",
      "model = LinearRegression()\n",
      "# \u83b7\u5f97\u6700fitting\u8fd9\u4e9b\u6570\u636e\u7684\u7ebf\u6027\u56de\u5f52\u5047\u8bbe\n",
      "testData=[[12],[20],[3],[13],[17]]\n",
      "\n",
      "model.fit(X,y)\n",
      "\n",
      "# \u7136\u540e\u5728\u5bf9\u6d4b\u8bd5\u6570\u636e\u8fdb\u884c\u9884\u6d4b;\n",
      "result = model.predict(testData)"
     ],
     "language": "python",
     "metadata": {},
     "outputs": []
    },
    {
     "cell_type": "markdown",
     "metadata": {},
     "source": [
      "# matplotlib\n",
      "\n",
      "\u505a\u66f2\u7ebf\u548c\u753b\u70b9\u7684\u533a\u522b\u4ec5\u5728\u4e8e\u7b2c\u4e09\u4e2a\u53c2\u6570\u4e0d\u4e00\u6837 \n",
      "\n",
      "\u4e0b\u9762\u7684\u4f8b\u5b50\u5c55\u793a\u4e86\uff0c\u5982\u4f55\u5728\u4e00\u4e2a\u753b\u677f\u4e0a\u9762\u753b\u4e24\u6b21"
     ]
    },
    {
     "cell_type": "code",
     "collapsed": false,
     "input": [
      "plt.plot(X,y,'b.')\n",
      "plt.plot(testData,result,'r-*')\n",
      "plt.show()"
     ],
     "language": "python",
     "metadata": {},
     "outputs": [
      {
       "metadata": {},
       "output_type": "display_data",
       "png": "[encoded data removed]",
       "text": [
        "<matplotlib.figure.Figure at 0x7f08af3c8450>"
       ]
      }
     ],
     "prompt_number": 31
    },
    {
     "cell_type": "markdown",
     "metadata": {},
     "source": [
      "## \u8ba1\u7b97\u6a21\u578b\u6b8b\u5dee\n",
      "\n",
      "\u6b8b\u5dee\u6307\u7684\u662f\u8bad\u7ec3\u6837\u672c\u4ee3\u5165\u6a21\u578b\u91cc\u9762\u5f97\u5230\u5230\u7ed3\u679c\u4e0e\u81ea\u5df1label\u7684\u5dee\u8ddd\uff0c\u53ef\u4ee5\u8868\u793a$ E_{in} $\n",
      "\n",
      "\u4e0b\u9762\u662f\u753b\u70b9\n"
     ]
    },
    {
     "cell_type": "code",
     "collapsed": false,
     "input": [
      "ylabel = model.predict(X)\n",
      "plt.plot(X,y,'b*')\n",
      "plt.plot(testData,result,'r-')\n",
      "# \u9884\u6d4b\u6bcf\u4e00\u4e2a\u70b9,\u6ce8\u610f\u8fd9\u91cc\u7684x\u4e5f\u662f\u4e2alist;\n",
      "for idx,x in enumerate(X):\n",
      "    plt.plot([x,x],[y[idx],ylabel[idx]],'g-');\n",
      "    #idx\n",
      "    \n",
      "plt.show()\n",
      "\n"
     ],
     "language": "python",
     "metadata": {},
     "outputs": [
      {
       "metadata": {},
       "output_type": "display_data",
       "png": "[encoded data removed]",
       "text": [
        "<matplotlib.figure.Figure at 0x7f08af3c8b10>"
       ]
      }
     ],
     "prompt_number": 54
    },
    {
     "cell_type": "code",
     "collapsed": false,
     "input": [
      "'can cha square sum is %.2f' % np.mean((model.predict(X)-y)**2)"
     ],
     "language": "python",
     "metadata": {},
     "outputs": [
      {
       "metadata": {},
       "output_type": "pyout",
       "prompt_number": 53,
       "text": [
        "'can cha square sum is 1.75'"
       ]
      }
     ],
     "prompt_number": 53
    },
    {
     "cell_type": "markdown",
     "metadata": {},
     "source": [
      "# \u6a21\u578b\u8bc4\u4f30\n",
      "\n",
      "\u6709\u4e9b\u5ea6\u91cf\u65b9\u6cd5\u53ef\u4ee5\u7528\u6765\u8bc4\u4f30\u9884\u6d4b\u6548\u679c\uff0c\u6211\u4eec\u7528R\u65b9\u8868\u793a\u6a21\u578b\u5bf9\u73b0\u5b9e\u6570\u636e\u62df\u5408\u7684\u7a0b\u5ea6\u3002 \n",
      "\n",
      "$$ R^2 = 1-\\frac{SS_{res}}{SS_{tot}} $$\n",
      "\n",
      "\u5176\u4e2d $ SS_{res} $ \u8868\u793ag(x)\u6b8b\u5dee\u5e73\u65b9\u548c\uff0c$ SS_{tot} $\u8868\u793ay\u7684\u65b9\u5dee\u3002($  R^2<=1 $ \u4e0b\u9650\u662f\u8d1f\u65e0\u7a77)\n",
      "\n",
      "\u65b9\u5dee\u7ea6\u5927\u6548\u679c\u8d8a\u597d "
     ]
    },
    {
     "cell_type": "code",
     "collapsed": false,
     "input": [
      "X_test = [[8], [9], [11], [16], [12]]\n",
      "y_test = [[11], [8.5], [15], [18], [11]]\n",
      "model.score(X_test, y_test)"
     ],
     "language": "python",
     "metadata": {},
     "outputs": [
      {
       "metadata": {},
       "output_type": "pyout",
       "prompt_number": 55,
       "text": [
        "0.6620052929422553"
       ]
      }
     ],
     "prompt_number": 55
    },
    {
     "cell_type": "markdown",
     "metadata": {},
     "source": [
      "# \u591a\u5143\u7ebf\u6027\u56de\u5f52\n",
      "---\n",
      "\n",
      "$$ Y=X\\beta $$\n",
      "\n",
      "\u8fd9\u91cc\u8981\u6c42$\\beta$ \u53ef\u4ee5\u7528\u6700\u5c0f\u4e8c\u4e58\u6cd5\u6c42\u51fa\u6765"
     ]
    },
    {
     "cell_type": "code",
     "collapsed": false,
     "input": [
      "X = [[6, 2], [8, 1], [10, 0], [14, 2], [18, 0]]\n",
      "y = [[7], [9], [13], [17.5], [18]]\n",
      "model = LinearRegression()\n",
      "model.fit(X, y)\n",
      "X_test = [[8, 2], [9, 0], [11, 2], [16, 2], [12, 0]]\n",
      "y_test = [[11], [8.5], [15], [18], [11]]\n",
      "predictions = model.predict(X_test)\n",
      "for i, prediction in enumerate(predictions):\n",
      "    print 'Predicted: %s, Target: %s' % (prediction, y_test[i]) \n",
      "    print 'R-squared: %.2f' % model.score(X_test, y_test) \n"
     ],
     "language": "python",
     "metadata": {},
     "outputs": [],
     "prompt_number": 66
    },
    {
     "cell_type": "markdown",
     "metadata": {},
     "source": [
      "# \u591a\u9879\u5f0f\u56de\u5f52\n",
      "\n",
      "\u7528\u591a\u9879\u5f0f(\u975e\u7ebf\u6027)\u56de\u5f52\uff0c\u4e00\u79cd\u7279\u6b8a\u5230\u591a\u5143\u7ebf\u6027\u56de\u5f52\u65b9\u6cd5\uff08\u901a\u8fc7\u5750\u6807\u8f6c\u6362\uff09\uff0c\u589e\u52a0\u4e86\u6307\u6570\u9879(x\u7684\u6b21\u6570\u5927\u4e8e1)\u3002\u73b0\u5b9e\u4e16\u754c\u4e2d\u7684\u66f2\u7ebf\u5173\u7cfb\u90fd\u662f\u901a\u8fc7\u591a\u9879\u5f0f\u5b9e\u73b0\u7684\uff0c\u5176\u5b9e\u73b0\u65b9\u5f0f\u548c\u591a\u5143\u7ebf\u6027\u56de\u5f52\u7c7b\u4f3c \n",
      "\n",
      "---\n",
      "\n",
      "## \u4e8c\u6b21\u56de\u5f52\n",
      "\n",
      "\u56de\u5f52\u65b9\u7a0b\u6709\u4e2a\u4e8c\u6b21\u9879\uff0c\u516c\u5f0f\u5982\u4e0b\uff1a\n",
      "$$ y=\\alpha + \\beta_1x+\\beta_2x^2 $$\n",
      "\n",
      "\u6211\u4eec\u9700\u8981\u901a\u8fc7\u7a7a\u95f4\u53d8\u6362\u628a\u8fd9\u4e2a\u66f2\u7ebf\u6620\u5c04\u5230\u53e6\u4e00\u4e2a\u7a7a\u95f4\u91cc\u9762\u7684\u7ebf\u6027\u7684,\u9700\u8981\u7528\u5230sklearn\u7684preprocessing(\u9884\u5904\u7406\u6a21\u5757)\u91cc\u9762\u7684\u591a\u9879\u5f0f\u7279\u5f81\u8f6c\u6362PolynomialFeatures\n",
      "\n",
      "```\n",
      "xx.reshape(xx.shape[0],1)\n",
      "```\n",
      "\u662f\u5427\u4e00\u4e2a\u4e00\u7ef4\u7684\u6570\u7ec4\u8f6c\u5316\u4e3a\u4e00\u4e2a \u5411\u91cf \n"
     ]
    },
    {
     "cell_type": "code",
     "collapsed": false,
     "input": [
      "from sklearn.preprocessing import PolynomialFeatures\n",
      "# \u5148\u753b\u51fa\u539f\u59cb\u7684\u7ebf\u6027\u56fe\u50cf\n",
      "X_train = [ [6],[8],[10],[14],[18] ]\n",
      "y_train = [ [7],[9],[13],[17.5],[18] ]\n",
      "\n",
      "X_test  = [ [6],[8],[11],[16] ]\n",
      "y_test  = [ [8],[12],[15],[18] ]\n",
      "plt.plot(X_train,y_train,'k*')\n",
      "\n",
      "## \u5148\u751f\u6210\u6a21\u578b\n",
      "linRegress = LinearRegression()\n",
      "linRegress.fit(X_train,y_train)\n",
      "\n",
      "## \u4e0b\u9762\u901a\u8fc7\u628a\u4ea7\u751f\u7684\u76f4\u7ebf\u4e0a\u7684\u70b9\u90fd\u753b\u51fa\u6765\u628a\u6574\u4e2a\u56fe\u50cf\u753b\u51fa\u6765\n",
      "\n",
      "xx = np.linspace(0,25,100) # \u628a0\u523025\u4e4b\u95f4\u5206\u6210100\u4efd\n",
      "\n",
      "# ## \u8fd9\u91ccxx\u662f 100\u5217\u7684\uff0c\u6211\u4eec\u5e94\u8be5\u628a\u5b83\u8f6c\u5316\u4f4d100\u884c1\u5217\u7684list\n",
      "yy = linRegress.predict(xx.reshape(xx.shape[0],1))\n",
      "\n",
      "plt.plot(xx,yy,'b-')\n",
      "\n",
      "\n",
      "\n",
      "\n"
     ],
     "language": "python",
     "metadata": {},
     "outputs": [
      {
       "metadata": {},
       "output_type": "pyout",
       "prompt_number": 134,
       "text": [
        "[<matplotlib.lines.Line2D at 0x7f08ae82ba50>]"
       ]
      },
      {
       "metadata": {},
       "output_type": "display_data",
       "png": "[encoded data removed]",
       "text": [
        "<matplotlib.figure.Figure at 0x7f08ae82bc10>"
       ]
      }
     ],
     "prompt_number": 134
    },
    {
     "cell_type": "markdown",
     "metadata": {},
     "source": [
      "## \u4e0b\u9762\u8fdb\u884c\u975e\u7ebf\u6027\u53d8\u6362 \n",
      "\n",
      "\u4f7f\u7528PolynomiraFeatures \u4ea7\u751f\u7684\u5bf9\u8c61\n",
      "\n",
      "fit_transform\u4e0etransform\u7684\u533a\u522b "
     ]
    },
    {
     "cell_type": "code",
     "collapsed": false,
     "input": [
      "# \u5148\u751f\u6210\u4e00\u4e2a\u4e8c\u6b21\u53d8\u6362\u77e9\u9635\uff0c\u7528\u6765\u5bf9\u5750\u6807\u8fdb\u884c\u53d8\u6362\n",
      "quadratic_feature = PolynomialFeatures(degree=2)\n",
      "\n",
      "## \u4e0b\u9762\u8fdb\u884c\u5750\u6807\u53d8\u6362 \n",
      "quadra_xtrain = quadratic_feature.fit_transform(X_train)\n",
      "\n",
      "quadRegress = LinearRegression()\n",
      "quadRegress.fit(quadra_xtrain,y_train)\n",
      "\n",
      "quadra_xx = quadratic_feature.fit_transform(xx.reshape(xx.shape[0],1))\n",
      "yy_quad = quadRegress.predict(quadra_xx)\n",
      "\n",
      "\n",
      "# \u4e0b\u9762\u751f\u6210\u4e00\u4e2a\u4e09\u6b21\u53d8\u6362\u77e9\u9635\uff0c\u7528\u4e8e\u5bf9\u5750\u6807\u8fdb\u884c\u53d8\u6362 \n",
      "tri_feature = PolynomialFeatures(degree=3)\n",
      "## \u8fdb\u884c\u5750\u6807\u53d8\u6362 \n",
      "tri_xtrain = tri_feature.fit_transform(X_train)\n",
      "tri_regress = LinearRegression()\n",
      "tri_regress.fit(tri_xtrain,y_train)\n",
      "\n",
      "yy_tri = tri_regress.predict(tri_feature.fit_transform(xx.reshape(xx.shape[0],1)) )\n",
      "\n",
      "\n",
      "plt.plot(X_train,y_train,'b*')\n",
      "plt.plot(xx,yy,'b-')\n",
      "plt.plot(xx,yy_quad,'g-')\n",
      "plt.plot(xx,yy_tri,'r-')\n",
      "\n"
     ],
     "language": "python",
     "metadata": {},
     "outputs": [
      {
       "metadata": {},
       "output_type": "pyout",
       "prompt_number": 142,
       "text": [
        "[<matplotlib.lines.Line2D at 0x7f08ae45fdd0>]"
       ]
      },
      {
       "metadata": {},
       "output_type": "display_data",
       "png": "[encoded data removed]",
       "text": [
        "<matplotlib.figure.Figure at 0x7f08ae57de50>"
       ]
      }
     ],
     "prompt_number": 142
    },
    {
     "cell_type": "markdown",
     "metadata": {},
     "source": [
      "## fitting\u7a0b\u5ea6\n",
      "\n",
      "\u4e0b\u9762\u6bd4\u8f831\u6b21\u7ebf\u6027\u56de\u5f52\u548c2\u6b21/3\u6b21\u975e\u7ebf\u6027\u56de\u5f52\u7684fitting\u7a0b\u5ea6\n",
      "\n",
      "\u53d1\u73b02\u6b21\u662f\u6700\u5408\u9002\u5230\uff0c1\u6b21underfitting 3\u6b21overfitting"
     ]
    },
    {
     "cell_type": "code",
     "collapsed": false,
     "input": [
      "score1 = linRegress.score(X_test,y_test)\n",
      "\n",
      "\n",
      "score2 = quadRegress.score(quadratic_feature.transform(X_test),y_test)\n",
      "\n",
      "score3 = tri_regress.score(tri_feature.transform(X_test),y_test)\n",
      "'score1', score1,'score2' ,score2,'score3',score3"
     ],
     "language": "python",
     "metadata": {},
     "outputs": [
      {
       "metadata": {},
       "output_type": "pyout",
       "prompt_number": 144,
       "text": [
        "('score1',\n",
        " 0.80972679770766498,\n",
        " 'score2',\n",
        " 0.86754436563450543,\n",
        " 'score3',\n",
        " 0.83569241560379559)"
       ]
      }
     ],
     "prompt_number": 144
    },
    {
     "cell_type": "code",
     "collapsed": false,
     "input": [],
     "language": "python",
     "metadata": {},
     "outputs": []
    }
   ],
   "metadata": {}
  }
 ]
}