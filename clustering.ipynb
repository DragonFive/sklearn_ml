{
 "metadata": {
  "name": "",
  "signature": "sha256:67710fc2aca0ba2499355a314ce981f09e91ef7a45895a1374afc085fd52aa36"
 },
 "nbformat": 3,
 "nbformat_minor": 0,
 "worksheets": [
  {
   "cells": [
    {
     "cell_type": "markdown",
     "metadata": {},
     "source": [
      "# k-means\u805a\u7c7b\n",
      "\n",
      "\n",
      "## \u805a\u7c7b\u7b97\u6cd5 \n",
      "\u975e\u76d1\u7763\u5b66\u4e60\u7684\u76ee\u7684\u662f\u4ece\u4e0d\u5e26\u6807\u7b7e\u7684\u8bad\u7ec3\u6570\u636e\u4e2d\u6316\u6398\u9690\u542b\u7684\u5173\u7cfb\u3002\u805a\u7c7b,\u6216\u79f0\u4e3a\u805a\u7c7b\u5206\u6790(cluster analysis)\u662f\u4e00\u79cd\u5206\u7ec4\u89c2\u5bdf\u7684\u65b9\u6cd5,\u5c06\u66f4\u5177\u76f8\u4f3c\u6027\u7684\u6837\u672c\u5f52\u4e3a\u4e00\n",
      "\u7ec4,\u6216\u4e00\u7c7b(cluster),\u540c\u7ec4\u4e2d\u7684\u6837\u672c\u6bd4\u5176\u4ed6\u7ec4\u7684\u6837\u672c\u66f4\u76f8\u4f3c\u3002\n",
      "\n",
      "**\u793e\u4ea4\u7f51\u7edc**\u53ef\u4ee5\u7528\u805a\u7c7b\u7b97\u6cd5\u8bc6\u522b\u793e\u533a,\u7136\u540e\u5411\u6ca1\u6709\u52a0\u5165\u793e\u533a\u7684\u7528\u6237\u8fdb\u884c\u63a8\u8350\u3002\u5728\u751f\u7269\u5b66\u9886\u57df,\u805a\u7c7b\u7528\u4e8e\u627e\u51fa\u6709\u76f8\u4f3c\u6a21\u5f0f\u7684\u57fa\u56e0\u7ec4\u3002**\u63a8\u8350\u7cfb\u7edf**\u6709\u65f6\u4e5f\u5229\u7528\u805a\u7c7b\u7b97\u6cd5\u5411\u7528\u6237\u63a8\u8350\u4ea7\u54c1\u548c\u5a92\u4f53\u8d44\u6e90\u3002\u5728\u5e02\u573a\u8c03\u67e5\u4e2d,\u805a\u7c7b\u7b97\u6cd5\u7528\u6765\u505a**\u7528\u6237\u5206\u7ec4**\u3002\n",
      "\n",
      "## k-means\n",
      "\n",
      "K-Means\u7b97\u6cd5\u662f\u4e00\u4e2a\u91cd\u590d\u79fb\u52a8\u7c7b\u4e2d\u5fc3\u70b9\u7684\u8fc7\u7a0b,\u628a\u7c7b\u7684\u4e2d\u5fc3\u70b9,\u4e5f\u79f0\u91cd\u5fc3(centroids),\u79fb\u52a8\u5230\u5176\u5305\u542b\u6210\u5458\u7684\u5e73\u5747\u4f4d\u7f6e,\u7136\u540e\u6839\u636e\u65b0\u7684\u91cd\u5fc3\u91cd\u65b0\u5212\u5206\u5176\u5185\u90e8\u6210\u5458\u3002 K \u662f\u7b97\u6cd5\u8ba1\u7b97\u51fa\u7684\u8d85\u53c2\u6570,\u8868\u793a\u7c7b\u7684\u6570\u91cf\uff08\u8fd9\u4e2a\u8d85\u53c2\u6570\uff0c\u540e\u9762\u4e0d\u53c2\u4e0e\u4f18\u5316\uff09;K-Means\u53ef\u4ee5\u81ea\u52a8\u5206\u914d\u6837\u672c\u5230\u4e0d\u540c\u7684\u7c7b,\u4f46\u662f\u4e0d\u80fd\u51b3\u5b9a\u7a76\u7adf\u8981\u5206\u51e0\u4e2a\u7c7b\u3002** K \u5fc5\u987b\u662f\u4e00\u4e2a\u6bd4\u8bad\u7ec3\u96c6\u6837\u672c\u6570\u5c0f\u7684\u6b63\u6574\u6570**\u3002\u6709\u65f6,\u7c7b\u7684\u6570\u91cf\u662f\u7531\u95ee\u9898\u5185\u5bb9\u6307\u5b9a\u7684\u3002\u4f8b\u5982,\u4e00\u4e2a\u978b\u5382\u6709\u4e09\u79cd\u65b0\u6b3e\u5f0f,\u5b83\u60f3\u77e5\u9053\u6bcf\u79cd\u65b0\u6b3e\u5f0f\u90fd\u6709\u54ea\u4e9b\u6f5c\u5728\u5ba2\u6237,\u4e8e\u662f\u5b83\u8c03\u7814\u5ba2\u6237,\u7136\u540e\u4ece\u6570\u636e\u91cc\u627e\u51fa\u4e09\u7c7b\u3002\u4e5f\u6709\u4e00\u4e9b\u95ee\u9898\u6ca1\u6709\u6307\u5b9a\u805a\u7c7b\u7684\u6570\u91cf,\u6700\u4f18\u7684\u805a\u7c7b\u6570\u91cf\u662f\u4e0d\u786e\u5b9a\u7684\u3002\u4e00\u79cd**\u542f\u53d1\u5f0f\u65b9\u6cd5\u6765\u4f30\u8ba1\u6700\u4f18\u805a\u7c7b\u6570\u91cf,\u79f0\u4e3a\u8098\u90e8\u6cd5\u5219**(Elbow Method)\u3002\n",
      "\n",
      "K-Means\u53c2\u6570\u7684\u6700\u4f18\u89e3\u4e5f\u662f\u4ee5\u6210\u672c\u51fd\u6570\u6700\u5c0f\u5316\u4e3a\u76ee\u6807\u3002K-Means\u6210\u672c\u51fd\u6570\u516c\u5f0f\u5982\u4e0b:\n",
      "\n",
      "$$  J = \\sum^k_{k=2}\\sum_{i \\in C_k}|x_i-\\mu| $$\n",
      "\n",
      "\u6210\u672c\u51fd\u6570\u662f\u5404\u4e2a\u7c7b\u7578\u53d8\u7a0b\u5ea6(distortions)\u4e4b\u548c\u3002\u6bcf\u4e2a\u7c7b\u7684\u7578\u53d8\u7a0b\u5ea6\u7b49\u4e8e\u8be5\u7c7b\u91cd\u5fc3\u4e0e\u5176\u5185\u90e8\u6210\u5458\u4f4d\u7f6e\u8ddd\u79bb\u7684\u5e73\u65b9\u548c\u3002\u82e5\u7c7b\u5185\u90e8\u7684\u6210\u5458\u5f7c\u6b64\u95f4\u8d8a\u7d27\u51d1\u5219\u7c7b\u7684\u7578\u53d8\u7a0b\u5ea6\u8d8a\u5c0f\n",
      "\n",
      "\n",
      "## \u5c40\u90e8\u6700\u4f18\u89e3\n",
      "\n",
      "\u524d\u9762\u4ecb\u7ecd\u8fc7K-Means\u7684\u521d\u59cb\u91cd\u5fc3\u4f4d\u7f6e\u662f\u968f\u673a\u9009\u62e9\u7684\u3002\u6709\u65f6,\u5982\u679c\u8fd0\u6c14\u4e0d\u597d,\u968f\u673a\u9009\u62e9\u7684\u91cd\u5fc3\u4f1a\u5bfc\u81f4K-Means\u9677\u5165\u5c40\u90e8\u6700\u4f18\u89e3\u3002\u4e3a\u4e86\u907f\u514d\u5c40\u90e8\u6700\u4f18\u89e3,K-Means\u901a\u5e38\u521d\u59cb\u65f6\u8981\u91cd\u590d\u8fd0\u884c\u5341\u51e0\u6b21\u751a\u81f3\u4e0a\u767e\u6b21\u3002\u6bcf\u6b21\u91cd\u590d\u65f6,\u5b83\u4f1a\u968f\u673a\u7684\u4ece\u4e0d\u540c\u7684\u4f4d\u7f6e\u5f00\u59cb\u521d\u59cb\u5316\u3002\u6700\u540e\u628a\u6700\u5c0f\u7684\u6210\u672c\u51fd\u6570\u5bf9\u5e94\u7684\u91cd\u5fc3\u4f4d\u7f6e\u4f5c\u4e3a\u521d\u59cb\u5316\u4f4d\u7f6e\u3002\n",
      "\n",
      "## \u8098\u90e8\u6cd5\u5219 \n",
      "\n",
      "\u8098\u90e8\u6cd5\u5219\u4f1a\u628a\u4e0d\u540c K \u503c\u7684\u6210\u672c\u51fd\u6570\u503c\u753b\u51fa\u6765\u3002\u968f\u7740 K \u503c\u7684\u589e\u5927,\u5e73\u5747\u7578\u53d8\u7a0b\u5ea6\u4f1a\u51cf\u5c0f;\u6bcf\u4e2a\u7c7b\u5305\u542b\u7684\u6837\u672c\u6570\u4f1a\u51cf\u5c11,\u4e8e\u662f\u6837\u672c\u79bb\u5176\u91cd\u5fc3\u4f1a\u66f4\u8fd1\u3002\u4f46\u662f,\u968f\u7740 K \u503c\u7ee7\u7eed\u589e\u5927,\u5e73\u5747\u7578\u53d8\u7a0b\u5ea6\u7684\u6539\u5584\u6548\u679c\u4f1a\u4e0d\u65ad\u51cf\u4f4e\u3002 K \u503c\u589e\u5927\u8fc7\u7a0b\u4e2d,\u7578\u53d8\u7a0b\u5ea6\u7684\u6539\u5584\u6548\u679c\u4e0b\u964d\u5e45\u5ea6\u6700\u5927\u7684\u4f4d\u7f6e\u5bf9\u5e94\u7684 K \u503c\u5c31\u662f\u8098\u90e8\u3002\n",
      "\n"
     ]
    },
    {
     "cell_type": "code",
     "collapsed": false,
     "input": [
      "import numpy as np\n",
      "\n",
      "cluster1 = np.random.uniform(0.5,1.5,(2,10)) # \u751f\u6210\u4e24\u4e2a\u753110\u4e2a0.5-1.5\u4e4b\u95f4\u7684\u6570\u6784\u6210\u7684\u6570\u7ec4\n",
      "cluster2 = np.random.uniform(3.5,4.5,(2,10))\n",
      "print 'cluster1:'\n",
      "print cluster1  \n",
      "x = np.hstack((cluster1,cluster2)).T # \u628a\u4e24\u8005\u7684\u6570\u7ec4\u6c34\u5e73\u65b9\u5411\u5408\u5e76,\u7136\u540e\u5012\u7f6e\uff0c\u8fd9\u6837\u5c31\u6784\u9020\u4e8620\u4e2a\u70b9\u6784\u6210\u7684\u6570\u7ec4\n",
      "print 'x:'\n",
      "print x\n",
      "\n",
      "plt.figure()\n",
      "plt.axis([0,5,0,5])\n",
      "plt.grid(True)\n",
      "plt.plot(x[:,0],x[:,1],'k.')\n"
     ],
     "language": "python",
     "metadata": {},
     "outputs": [
      {
       "output_type": "stream",
       "stream": "stdout",
       "text": [
        "cluster1:\n",
        "[[ 1.1764874   0.90841334  0.73692614  1.10537776  0.80711798  1.13841883\n",
        "   0.78863085  0.77818448  1.07443519  0.79718903]\n",
        " [ 1.3195831   0.54951905  0.69769714  1.49563016  1.34617719  1.03747883\n",
        "   0.96067269  0.99094356  1.10711627  0.73868164]]\n",
        "x:\n",
        "[[ 1.1764874   1.3195831 ]\n",
        " [ 0.90841334  0.54951905]\n",
        " [ 0.73692614  0.69769714]\n",
        " [ 1.10537776  1.49563016]\n",
        " [ 0.80711798  1.34617719]\n",
        " [ 1.13841883  1.03747883]\n",
        " [ 0.78863085  0.96067269]\n",
        " [ 0.77818448  0.99094356]\n",
        " [ 1.07443519  1.10711627]\n",
        " [ 0.79718903  0.73868164]\n",
        " [ 3.83620348  4.00501684]\n",
        " [ 3.82942615  3.90257422]\n",
        " [ 4.04791228  4.08464722]\n",
        " [ 4.24817977  4.48417   ]\n",
        " [ 4.40361189  3.87736678]\n",
        " [ 3.59751409  4.46053778]\n",
        " [ 4.46880824  3.83861432]\n",
        " [ 4.1159232   3.86366257]\n",
        " [ 4.47642698  3.50089599]\n",
        " [ 4.24135272  4.34320204]]\n"
       ]
      },
      {
       "metadata": {},
       "output_type": "pyout",
       "prompt_number": 10,
       "text": [
        "[<matplotlib.lines.Line2D at 0x7f618d7f0610>]"
       ]
      },
      {
       "metadata": {},
       "output_type": "display_data",
       "png": "[encoded data removed]",
       "text": [
        "<matplotlib.figure.Figure at 0x7f618d954450>"
       ]
      }
     ],
     "prompt_number": 10
    },
    {
     "cell_type": "markdown",
     "metadata": {},
     "source": [
      "\u6211\u4eec\u8ba1\u7b97 K \u503c\u4ece1\u523010\u5bf9\u5e94\u7684\u5e73\u5747\u7578\u53d8\u7a0b\u5ea6:"
     ]
    },
    {
     "cell_type": "code",
     "collapsed": false,
     "input": [
      "\n",
      "from sklearn.cluster import KMeans\n",
      "from scipy.spatial.distance import cdist  # \u6b27\u5f0f\u8ddd\u79bb\uff1f\n",
      "\n",
      "K = range(1,10)\n",
      "mean_distor = [] # \u8bb0\u5f55\u5e73\u5747\u7578\u53d8\u7a0b\u5ea6\n",
      "\n",
      "for k in K:\n",
      "    kmeans = KMeans(n_clusters=k)\n",
      "    kmeans.fit(x)\n",
      "    # \u4e0b\u9762\u8ba1\u7b97\u8fd9\u4e2ak\u5bf9\u5e94\u7684\u5e73\u5747\u7578\u53d8\u7a0b\u5ea6\n",
      "    mean_distor.append( sum(np.min( cdist(x,kmeans.cluster_centers_,'euclidean'),axis=1))/x.shape[0]  )\n",
      "    np.mean( cdist(x,kmeans.cluster_centers_,'euclidean'),axis=1) #\u8868\u793a\u7684\u662f\u5728\u540c\u4e00\u884c\u91cc\u9762\u627e\u6700\u5c0f\u7684,\u4e5f\u5c31\u662f\u6bcf\u4e2a\u70b9\u5206\u7c7b\u5230\u79bb\u5b83\u6700\u8fd1\u7684\u90a3\u4e2a\u4e2d\u5fc3\u4e0a\u53bb\n",
      "    #print 'hehe'\n",
      "plt.plot(K,mean_distor,'bx-')\n",
      "plt.xlabel('k')\n",
      "plt.ylabel('mean distorition')\n",
      "plt.title('best k')\n",
      "\n",
      "\n",
      "\n"
     ],
     "language": "python",
     "metadata": {},
     "outputs": [
      {
       "metadata": {},
       "output_type": "pyout",
       "prompt_number": 19,
       "text": [
        "<matplotlib.text.Text at 0x7f61804a9910>"
       ]
      },
      {
       "metadata": {},
       "output_type": "display_data",
       "png": "[encoded data removed]",
       "text": [
        "<matplotlib.figure.Figure at 0x7f61804e7690>"
       ]
      }
     ],
     "prompt_number": 19
    },
    {
     "cell_type": "markdown",
     "metadata": {},
     "source": [
      "\u4ece\u56fe\u4e2d\u53ef\u4ee5\u770b\u51fa, K \u503c\u4ece1\u52302\u65f6,\u5e73\u5747\u7578\u53d8\u7a0b\u5ea6\u53d8\u5316\u6700\u5927\u3002\u8d85\u8fc72\u4ee5\u540e,\u5e73\u5747\u7578\u53d8\u7a0b\u5ea6\u53d8\u5316\u663e\u8457\u964d\u4f4e\u3002\u56e0\u6b64\u8098\u90e8\u5c31\u662f K = 2 \u3002"
     ]
    },
    {
     "cell_type": "code",
     "collapsed": false,
     "input": [],
     "language": "python",
     "metadata": {},
     "outputs": []
    }
   ],
   "metadata": {}
  }
 ]
}